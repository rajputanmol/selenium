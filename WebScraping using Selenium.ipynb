{
 "cells": [
  {
   "cell_type": "code",
   "execution_count": 1,
   "id": "82330b79",
   "metadata": {},
   "outputs": [],
   "source": [
    "import selenium\n",
    "import pandas as pd\n",
    "from selenium import webdriver\n",
    "import warnings\n",
    "warnings.filterwarnings('ignore')\n",
    "import time"
   ]
  },
  {
   "cell_type": "markdown",
   "id": "4ccb41a4",
   "metadata": {},
   "source": [
    "# Q1: Write a python program to scrape data for “Data Analyst” Job position in “Bangalore” location. You have to scrape the job-title, job-location, company_name, experience_required. You have to scrape first 10 jobs data."
   ]
  },
  {
   "cell_type": "code",
   "execution_count": 2,
   "id": "606cd0da",
   "metadata": {},
   "outputs": [],
   "source": [
    "driver=webdriver.Chrome(r\"C:\\chromedriver.exe\")"
   ]
  },
  {
   "cell_type": "code",
   "execution_count": 3,
   "id": "5f0d3d09",
   "metadata": {},
   "outputs": [],
   "source": [
    "driver.get('https://www.naukri.com/')"
   ]
  },
  {
   "cell_type": "code",
   "execution_count": 4,
   "id": "15baa78e",
   "metadata": {},
   "outputs": [],
   "source": [
    "search_field_designation=driver.find_element_by_class_name(\"suggestor-input \")\n",
    "search_field_designation.send_keys('Data Analyst')"
   ]
  },
  {
   "cell_type": "code",
   "execution_count": 5,
   "id": "6a5ef194",
   "metadata": {},
   "outputs": [],
   "source": [
    "search_field_location=driver.find_element_by_xpath(\"/html/body/div/div[2]/div[3]/div/div/div[5]/div/div/div/input\")\n",
    "search_field_location.send_keys('Bangalore')"
   ]
  },
  {
   "cell_type": "code",
   "execution_count": 7,
   "id": "2e5f43a3",
   "metadata": {},
   "outputs": [],
   "source": [
    "search_button=driver.find_element_by_xpath(\"/html/body/div/div[2]/div[3]/div/div/div[6]\")\n",
    "search_button.click()"
   ]
  },
  {
   "cell_type": "code",
   "execution_count": 8,
   "id": "5aece909",
   "metadata": {},
   "outputs": [],
   "source": [
    "titles=[]\n",
    "employer=[]\n",
    "locations=[]\n",
    "experience=[]"
   ]
  },
  {
   "cell_type": "code",
   "execution_count": 9,
   "id": "96146ff0",
   "metadata": {},
   "outputs": [
    {
     "data": {
      "text/plain": [
       "[<selenium.webdriver.remote.webelement.WebElement (session=\"8ad333c29a9bd23eb838074a796095e3\", element=\"6be77ed7-c143-4386-9c38-06b46b4d1e95\")>,\n",
       " <selenium.webdriver.remote.webelement.WebElement (session=\"8ad333c29a9bd23eb838074a796095e3\", element=\"ee4c137f-8e66-4f95-a152-c5aa11b9bf3c\")>,\n",
       " <selenium.webdriver.remote.webelement.WebElement (session=\"8ad333c29a9bd23eb838074a796095e3\", element=\"9b4134d4-c583-4492-9069-f95f6370c5c7\")>,\n",
       " <selenium.webdriver.remote.webelement.WebElement (session=\"8ad333c29a9bd23eb838074a796095e3\", element=\"665fd39c-5976-4834-b00a-48e78e6dd74a\")>,\n",
       " <selenium.webdriver.remote.webelement.WebElement (session=\"8ad333c29a9bd23eb838074a796095e3\", element=\"8ba6dc77-830f-4cc8-9516-1288ef00f959\")>,\n",
       " <selenium.webdriver.remote.webelement.WebElement (session=\"8ad333c29a9bd23eb838074a796095e3\", element=\"2ca50e51-1f61-4433-b6d3-72732d540921\")>,\n",
       " <selenium.webdriver.remote.webelement.WebElement (session=\"8ad333c29a9bd23eb838074a796095e3\", element=\"d971034e-a894-44e6-bac2-9bde279d22c5\")>,\n",
       " <selenium.webdriver.remote.webelement.WebElement (session=\"8ad333c29a9bd23eb838074a796095e3\", element=\"675953df-8878-4b91-b9ac-686f48cf5f2b\")>,\n",
       " <selenium.webdriver.remote.webelement.WebElement (session=\"8ad333c29a9bd23eb838074a796095e3\", element=\"93021f14-2d23-47be-9b91-eb44f64c3882\")>,\n",
       " <selenium.webdriver.remote.webelement.WebElement (session=\"8ad333c29a9bd23eb838074a796095e3\", element=\"cd452478-be8f-4cbd-b4bb-6887e2b98767\")>]"
      ]
     },
     "execution_count": 9,
     "metadata": {},
     "output_type": "execute_result"
    }
   ],
   "source": [
    "titles_tags=driver.find_elements_by_xpath(\"//a[@class='title fw500 ellipsis']\")\n",
    "titles_tags[0:10]"
   ]
  },
  {
   "cell_type": "code",
   "execution_count": 10,
   "id": "8ffc1dd1",
   "metadata": {},
   "outputs": [
    {
     "data": {
      "text/plain": [
       "['Business Data Analyst',\n",
       " 'EY GDS Data Analyst-Finland based project',\n",
       " 'Data Analyst - Data and Analytics',\n",
       " 'Data Analyst - Data and Analytics',\n",
       " 'Data Analyst (CSD)',\n",
       " 'Data Analyst - Data Science, 3 To 5 Years',\n",
       " 'Data Analyst / Business Analyst',\n",
       " 'Data Analyst',\n",
       " 'SAS/SQL - Healthcare Data Analyst - Bangalore',\n",
       " 'Business & Data Analyst - Alteryx (London)']"
      ]
     },
     "execution_count": 10,
     "metadata": {},
     "output_type": "execute_result"
    }
   ],
   "source": [
    "for i in titles_tags:\n",
    "    title=i.text\n",
    "    titles.append(title)\n",
    "titles=titles[0:10]\n",
    "titles"
   ]
  },
  {
   "cell_type": "code",
   "execution_count": 11,
   "id": "f076e4cf",
   "metadata": {},
   "outputs": [
    {
     "data": {
      "text/plain": [
       "[<selenium.webdriver.remote.webelement.WebElement (session=\"8ad333c29a9bd23eb838074a796095e3\", element=\"460a4144-1436-4d6d-bca2-858e2bf630ab\")>,\n",
       " <selenium.webdriver.remote.webelement.WebElement (session=\"8ad333c29a9bd23eb838074a796095e3\", element=\"d89cbc7d-e85a-4813-bb90-05a4f9bc01b0\")>,\n",
       " <selenium.webdriver.remote.webelement.WebElement (session=\"8ad333c29a9bd23eb838074a796095e3\", element=\"538be0cc-2618-4bf5-a8be-5fe72162f651\")>,\n",
       " <selenium.webdriver.remote.webelement.WebElement (session=\"8ad333c29a9bd23eb838074a796095e3\", element=\"482f32ab-96e4-47bf-80fa-745cdb949dbd\")>,\n",
       " <selenium.webdriver.remote.webelement.WebElement (session=\"8ad333c29a9bd23eb838074a796095e3\", element=\"c499b699-056e-40c9-9473-46e8a15aff7c\")>,\n",
       " <selenium.webdriver.remote.webelement.WebElement (session=\"8ad333c29a9bd23eb838074a796095e3\", element=\"f776dae0-f2d4-4f86-bf65-a1056f14bbc2\")>,\n",
       " <selenium.webdriver.remote.webelement.WebElement (session=\"8ad333c29a9bd23eb838074a796095e3\", element=\"36291049-d6af-4f24-81a8-1e855e7b45e4\")>,\n",
       " <selenium.webdriver.remote.webelement.WebElement (session=\"8ad333c29a9bd23eb838074a796095e3\", element=\"37a2510f-00de-4fb0-8781-e9901fbdc2a6\")>,\n",
       " <selenium.webdriver.remote.webelement.WebElement (session=\"8ad333c29a9bd23eb838074a796095e3\", element=\"6616e42a-5896-45a5-a809-99f5121d8628\")>,\n",
       " <selenium.webdriver.remote.webelement.WebElement (session=\"8ad333c29a9bd23eb838074a796095e3\", element=\"2b6b967d-8a7a-4f7a-abb2-eebcacc9a9f3\")>]"
      ]
     },
     "execution_count": 11,
     "metadata": {},
     "output_type": "execute_result"
    }
   ],
   "source": [
    "companies_tags=driver.find_elements_by_xpath(\"//a[@class='subTitle ellipsis fleft']\")\n",
    "companies_tags[0:10]"
   ]
  },
  {
   "cell_type": "code",
   "execution_count": 12,
   "id": "2ffa424a",
   "metadata": {},
   "outputs": [
    {
     "data": {
      "text/plain": [
       "['NXP Semiconductors',\n",
       " 'EY',\n",
       " 'Intel',\n",
       " 'Intel',\n",
       " 'Siemens',\n",
       " 'Rise Finconnect Private Limited',\n",
       " 'METRO Cash & Carry',\n",
       " 'Cigna TTK',\n",
       " 'Genpact',\n",
       " 'Imaginative Brains LLP']"
      ]
     },
     "execution_count": 12,
     "metadata": {},
     "output_type": "execute_result"
    }
   ],
   "source": [
    "for i in companies_tags:\n",
    "    title=i.text\n",
    "    employer.append(title)\n",
    "employer=employer[0:10]\n",
    "employer"
   ]
  },
  {
   "cell_type": "code",
   "execution_count": 13,
   "id": "66c4b3bd",
   "metadata": {},
   "outputs": [
    {
     "data": {
      "text/plain": [
       "[<selenium.webdriver.remote.webelement.WebElement (session=\"8ad333c29a9bd23eb838074a796095e3\", element=\"7d463051-c7de-4ac1-87e0-16c484c830ad\")>,\n",
       " <selenium.webdriver.remote.webelement.WebElement (session=\"8ad333c29a9bd23eb838074a796095e3\", element=\"ac881532-b81e-45e4-9212-d66121210524\")>,\n",
       " <selenium.webdriver.remote.webelement.WebElement (session=\"8ad333c29a9bd23eb838074a796095e3\", element=\"d14d6d19-566e-4ae2-8276-ea928aeaf314\")>,\n",
       " <selenium.webdriver.remote.webelement.WebElement (session=\"8ad333c29a9bd23eb838074a796095e3\", element=\"eff84a95-a279-4e5e-81d8-1db4a993cdac\")>,\n",
       " <selenium.webdriver.remote.webelement.WebElement (session=\"8ad333c29a9bd23eb838074a796095e3\", element=\"ccd65ea8-b080-44e3-be6f-96f23c5be675\")>,\n",
       " <selenium.webdriver.remote.webelement.WebElement (session=\"8ad333c29a9bd23eb838074a796095e3\", element=\"01d991d1-2326-40fb-bae9-3e8cd26c4f11\")>,\n",
       " <selenium.webdriver.remote.webelement.WebElement (session=\"8ad333c29a9bd23eb838074a796095e3\", element=\"5030c1b2-57df-4a0a-b4f7-436a8f52cfc6\")>,\n",
       " <selenium.webdriver.remote.webelement.WebElement (session=\"8ad333c29a9bd23eb838074a796095e3\", element=\"cc2af35f-736b-4f2d-bef1-c93e800f5bcc\")>,\n",
       " <selenium.webdriver.remote.webelement.WebElement (session=\"8ad333c29a9bd23eb838074a796095e3\", element=\"630c93eb-b7b4-46af-bdf3-36245c5c57df\")>,\n",
       " <selenium.webdriver.remote.webelement.WebElement (session=\"8ad333c29a9bd23eb838074a796095e3\", element=\"4204e5ad-10c4-4c9e-aeef-ca5fba014b88\")>]"
      ]
     },
     "execution_count": 13,
     "metadata": {},
     "output_type": "execute_result"
    }
   ],
   "source": [
    "loc_tags=driver.find_elements_by_xpath(\"//li[@class='fleft grey-text br2 placeHolderLi location']/span\")\n",
    "loc_tags[0:10]"
   ]
  },
  {
   "cell_type": "code",
   "execution_count": 14,
   "id": "066ffc33",
   "metadata": {},
   "outputs": [
    {
     "data": {
      "text/plain": [
       "['Bangalore/Bengaluru',\n",
       " 'Bangalore/Bengaluru',\n",
       " 'Bangalore/Bengaluru',\n",
       " 'Bangalore/Bengaluru',\n",
       " 'Bangalore/Bengaluru',\n",
       " 'Bangalore/Bengaluru',\n",
       " 'Bangalore/Bengaluru',\n",
       " 'Bangalore/Bengaluru',\n",
       " 'Bangalore/Bengaluru',\n",
       " 'Bangalore/Bengaluru, Delhi / NCR, Mumbai (All Areas)']"
      ]
     },
     "execution_count": 14,
     "metadata": {},
     "output_type": "execute_result"
    }
   ],
   "source": [
    "for i in loc_tags:\n",
    "    title=i.text\n",
    "    locations.append(title)\n",
    "locations=locations[0:10]\n",
    "locations"
   ]
  },
  {
   "cell_type": "code",
   "execution_count": 15,
   "id": "c9364293",
   "metadata": {},
   "outputs": [
    {
     "data": {
      "text/plain": [
       "[<selenium.webdriver.remote.webelement.WebElement (session=\"8ad333c29a9bd23eb838074a796095e3\", element=\"d65dfb40-6e0a-43b0-98cf-9845e86a22d9\")>,\n",
       " <selenium.webdriver.remote.webelement.WebElement (session=\"8ad333c29a9bd23eb838074a796095e3\", element=\"615a3151-c237-4a1a-abc2-54b22ab25fec\")>,\n",
       " <selenium.webdriver.remote.webelement.WebElement (session=\"8ad333c29a9bd23eb838074a796095e3\", element=\"77037189-b85a-4d0c-a94e-58a8ddd2bfc5\")>,\n",
       " <selenium.webdriver.remote.webelement.WebElement (session=\"8ad333c29a9bd23eb838074a796095e3\", element=\"7e29face-0932-47fd-8056-7fb2bbfecba3\")>,\n",
       " <selenium.webdriver.remote.webelement.WebElement (session=\"8ad333c29a9bd23eb838074a796095e3\", element=\"f8d76a94-be2e-4b19-9d9e-0afc26a6244f\")>,\n",
       " <selenium.webdriver.remote.webelement.WebElement (session=\"8ad333c29a9bd23eb838074a796095e3\", element=\"c88a488a-af3a-4073-b181-fea5a4220f26\")>,\n",
       " <selenium.webdriver.remote.webelement.WebElement (session=\"8ad333c29a9bd23eb838074a796095e3\", element=\"7ef1d692-d552-4d3d-9041-3033dd5174d6\")>,\n",
       " <selenium.webdriver.remote.webelement.WebElement (session=\"8ad333c29a9bd23eb838074a796095e3\", element=\"1528e625-b9e8-4a1f-a373-28e7520dc48e\")>,\n",
       " <selenium.webdriver.remote.webelement.WebElement (session=\"8ad333c29a9bd23eb838074a796095e3\", element=\"66844917-bf51-4225-857d-064fdb43b52e\")>,\n",
       " <selenium.webdriver.remote.webelement.WebElement (session=\"8ad333c29a9bd23eb838074a796095e3\", element=\"3c5c9b06-22eb-4e02-b649-ba0e39030f9b\")>]"
      ]
     },
     "execution_count": 15,
     "metadata": {},
     "output_type": "execute_result"
    }
   ],
   "source": [
    "exp_tags=driver.find_elements_by_xpath(\"//li[@class='fleft grey-text br2 placeHolderLi experience']/span\")\n",
    "exp_tags[0:10]"
   ]
  },
  {
   "cell_type": "code",
   "execution_count": 16,
   "id": "37104ca3",
   "metadata": {},
   "outputs": [
    {
     "data": {
      "text/plain": [
       "['2-5 Yrs',\n",
       " '0-1 Yrs',\n",
       " '3-6 Yrs',\n",
       " '3-6 Yrs',\n",
       " '2-6 Yrs',\n",
       " '2-6 Yrs',\n",
       " '3-8 Yrs',\n",
       " '2-4 Yrs',\n",
       " '7-10 Yrs',\n",
       " '5-10 Yrs']"
      ]
     },
     "execution_count": 16,
     "metadata": {},
     "output_type": "execute_result"
    }
   ],
   "source": [
    "for i in exp_tags:\n",
    "    title=i.text\n",
    "    experience.append(title)\n",
    "experience=experience[0:10]\n",
    "experience"
   ]
  },
  {
   "cell_type": "code",
   "execution_count": 17,
   "id": "dcb7a096",
   "metadata": {},
   "outputs": [
    {
     "name": "stdout",
     "output_type": "stream",
     "text": [
      "10 10 10 10\n"
     ]
    }
   ],
   "source": [
    "print(len(titles),len(employer),len(locations),len(experience))"
   ]
  },
  {
   "cell_type": "code",
   "execution_count": 18,
   "id": "7ee899c3",
   "metadata": {},
   "outputs": [
    {
     "data": {
      "text/html": [
       "<div>\n",
       "<style scoped>\n",
       "    .dataframe tbody tr th:only-of-type {\n",
       "        vertical-align: middle;\n",
       "    }\n",
       "\n",
       "    .dataframe tbody tr th {\n",
       "        vertical-align: top;\n",
       "    }\n",
       "\n",
       "    .dataframe thead th {\n",
       "        text-align: right;\n",
       "    }\n",
       "</style>\n",
       "<table border=\"1\" class=\"dataframe\">\n",
       "  <thead>\n",
       "    <tr style=\"text-align: right;\">\n",
       "      <th></th>\n",
       "      <th>Job-Title</th>\n",
       "      <th>Job-Location</th>\n",
       "      <th>Company_Name</th>\n",
       "      <th>Experience_required</th>\n",
       "    </tr>\n",
       "  </thead>\n",
       "  <tbody>\n",
       "    <tr>\n",
       "      <th>0</th>\n",
       "      <td>Business Data Analyst</td>\n",
       "      <td>Bangalore/Bengaluru</td>\n",
       "      <td>NXP Semiconductors</td>\n",
       "      <td>2-5 Yrs</td>\n",
       "    </tr>\n",
       "    <tr>\n",
       "      <th>1</th>\n",
       "      <td>EY GDS Data Analyst-Finland based project</td>\n",
       "      <td>Bangalore/Bengaluru</td>\n",
       "      <td>EY</td>\n",
       "      <td>0-1 Yrs</td>\n",
       "    </tr>\n",
       "    <tr>\n",
       "      <th>2</th>\n",
       "      <td>Data Analyst - Data and Analytics</td>\n",
       "      <td>Bangalore/Bengaluru</td>\n",
       "      <td>Intel</td>\n",
       "      <td>3-6 Yrs</td>\n",
       "    </tr>\n",
       "    <tr>\n",
       "      <th>3</th>\n",
       "      <td>Data Analyst - Data and Analytics</td>\n",
       "      <td>Bangalore/Bengaluru</td>\n",
       "      <td>Intel</td>\n",
       "      <td>3-6 Yrs</td>\n",
       "    </tr>\n",
       "    <tr>\n",
       "      <th>4</th>\n",
       "      <td>Data Analyst (CSD)</td>\n",
       "      <td>Bangalore/Bengaluru</td>\n",
       "      <td>Siemens</td>\n",
       "      <td>2-6 Yrs</td>\n",
       "    </tr>\n",
       "    <tr>\n",
       "      <th>5</th>\n",
       "      <td>Data Analyst - Data Science, 3 To 5 Years</td>\n",
       "      <td>Bangalore/Bengaluru</td>\n",
       "      <td>Rise Finconnect Private Limited</td>\n",
       "      <td>2-6 Yrs</td>\n",
       "    </tr>\n",
       "    <tr>\n",
       "      <th>6</th>\n",
       "      <td>Data Analyst / Business Analyst</td>\n",
       "      <td>Bangalore/Bengaluru</td>\n",
       "      <td>METRO Cash &amp; Carry</td>\n",
       "      <td>3-8 Yrs</td>\n",
       "    </tr>\n",
       "    <tr>\n",
       "      <th>7</th>\n",
       "      <td>Data Analyst</td>\n",
       "      <td>Bangalore/Bengaluru</td>\n",
       "      <td>Cigna TTK</td>\n",
       "      <td>2-4 Yrs</td>\n",
       "    </tr>\n",
       "    <tr>\n",
       "      <th>8</th>\n",
       "      <td>SAS/SQL - Healthcare Data Analyst - Bangalore</td>\n",
       "      <td>Bangalore/Bengaluru</td>\n",
       "      <td>Genpact</td>\n",
       "      <td>7-10 Yrs</td>\n",
       "    </tr>\n",
       "    <tr>\n",
       "      <th>9</th>\n",
       "      <td>Business &amp; Data Analyst - Alteryx (London)</td>\n",
       "      <td>Bangalore/Bengaluru, Delhi / NCR, Mumbai (All ...</td>\n",
       "      <td>Imaginative Brains LLP</td>\n",
       "      <td>5-10 Yrs</td>\n",
       "    </tr>\n",
       "  </tbody>\n",
       "</table>\n",
       "</div>"
      ],
      "text/plain": [
       "                                       Job-Title  \\\n",
       "0                          Business Data Analyst   \n",
       "1      EY GDS Data Analyst-Finland based project   \n",
       "2              Data Analyst - Data and Analytics   \n",
       "3              Data Analyst - Data and Analytics   \n",
       "4                             Data Analyst (CSD)   \n",
       "5      Data Analyst - Data Science, 3 To 5 Years   \n",
       "6                Data Analyst / Business Analyst   \n",
       "7                                   Data Analyst   \n",
       "8  SAS/SQL - Healthcare Data Analyst - Bangalore   \n",
       "9     Business & Data Analyst - Alteryx (London)   \n",
       "\n",
       "                                        Job-Location  \\\n",
       "0                                Bangalore/Bengaluru   \n",
       "1                                Bangalore/Bengaluru   \n",
       "2                                Bangalore/Bengaluru   \n",
       "3                                Bangalore/Bengaluru   \n",
       "4                                Bangalore/Bengaluru   \n",
       "5                                Bangalore/Bengaluru   \n",
       "6                                Bangalore/Bengaluru   \n",
       "7                                Bangalore/Bengaluru   \n",
       "8                                Bangalore/Bengaluru   \n",
       "9  Bangalore/Bengaluru, Delhi / NCR, Mumbai (All ...   \n",
       "\n",
       "                      Company_Name Experience_required  \n",
       "0               NXP Semiconductors             2-5 Yrs  \n",
       "1                               EY             0-1 Yrs  \n",
       "2                            Intel             3-6 Yrs  \n",
       "3                            Intel             3-6 Yrs  \n",
       "4                          Siemens             2-6 Yrs  \n",
       "5  Rise Finconnect Private Limited             2-6 Yrs  \n",
       "6               METRO Cash & Carry             3-8 Yrs  \n",
       "7                        Cigna TTK             2-4 Yrs  \n",
       "8                          Genpact            7-10 Yrs  \n",
       "9           Imaginative Brains LLP            5-10 Yrs  "
      ]
     },
     "execution_count": 18,
     "metadata": {},
     "output_type": "execute_result"
    }
   ],
   "source": [
    "#Creating DataFrame\n",
    "\n",
    "\n",
    "naukri = pd.DataFrame({'Job-Title': titles,'Job-Location':locations, 'Company_Name': employer, 'Experience_required': experience})\n",
    "naukri"
   ]
  },
  {
   "cell_type": "markdown",
   "id": "392bb102",
   "metadata": {},
   "source": [
    "# Q2: Write a python program to scrape data for “Data Scientist” Job position in “Bangalore” location. You have to scrape the job-title, job-location, company_name. You have to scrape first 10 jobs data."
   ]
  },
  {
   "cell_type": "code",
   "execution_count": 19,
   "id": "083792ed",
   "metadata": {},
   "outputs": [],
   "source": [
    "driver=webdriver.Chrome(r\"C:\\chromedriver.exe\")"
   ]
  },
  {
   "cell_type": "code",
   "execution_count": 20,
   "id": "87f2cd86",
   "metadata": {},
   "outputs": [],
   "source": [
    "driver.get('https://www.naukri.com/')"
   ]
  },
  {
   "cell_type": "code",
   "execution_count": 21,
   "id": "b34416c8",
   "metadata": {},
   "outputs": [],
   "source": [
    "search_field_designation=driver.find_element_by_class_name(\"suggestor-input \")\n",
    "search_field_designation.send_keys('Data Scientist')"
   ]
  },
  {
   "cell_type": "code",
   "execution_count": 22,
   "id": "7966c5cd",
   "metadata": {},
   "outputs": [],
   "source": [
    "search_field_location=driver.find_element_by_xpath(\"/html/body/div/div[2]/div[3]/div/div/div[5]/div/div/div/input\")\n",
    "search_field_location.send_keys('Bangalore')"
   ]
  },
  {
   "cell_type": "code",
   "execution_count": 23,
   "id": "5bead39e",
   "metadata": {},
   "outputs": [],
   "source": [
    "search_button=driver.find_element_by_xpath(\"/html/body/div/div[2]/div[3]/div/div/div[6]\")\n",
    "search_button.click()"
   ]
  },
  {
   "cell_type": "code",
   "execution_count": 24,
   "id": "3eb6b3ec",
   "metadata": {},
   "outputs": [],
   "source": [
    "titles=[]\n",
    "employer=[]\n",
    "locations=[]"
   ]
  },
  {
   "cell_type": "code",
   "execution_count": 25,
   "id": "4c8f5f84",
   "metadata": {},
   "outputs": [
    {
     "data": {
      "text/plain": [
       "[<selenium.webdriver.remote.webelement.WebElement (session=\"152bffcc47fb6790365840a2cb41aa4f\", element=\"96f51744-f514-4d83-91a4-b839c2fad986\")>,\n",
       " <selenium.webdriver.remote.webelement.WebElement (session=\"152bffcc47fb6790365840a2cb41aa4f\", element=\"ead5078e-327a-43a5-8314-cb78e6ab8daa\")>,\n",
       " <selenium.webdriver.remote.webelement.WebElement (session=\"152bffcc47fb6790365840a2cb41aa4f\", element=\"a658fd35-baaa-45a7-a48e-810391dc5316\")>,\n",
       " <selenium.webdriver.remote.webelement.WebElement (session=\"152bffcc47fb6790365840a2cb41aa4f\", element=\"4e81e2a4-82f0-4bbf-9ead-f4f6b4b5f466\")>,\n",
       " <selenium.webdriver.remote.webelement.WebElement (session=\"152bffcc47fb6790365840a2cb41aa4f\", element=\"fc2d0f45-47f7-43e1-b27f-d67ef6054e66\")>,\n",
       " <selenium.webdriver.remote.webelement.WebElement (session=\"152bffcc47fb6790365840a2cb41aa4f\", element=\"b99e9a1b-1835-436f-84a0-2f15f4f8130c\")>,\n",
       " <selenium.webdriver.remote.webelement.WebElement (session=\"152bffcc47fb6790365840a2cb41aa4f\", element=\"09f55796-d2a2-450c-b62d-83cdf0a43e24\")>,\n",
       " <selenium.webdriver.remote.webelement.WebElement (session=\"152bffcc47fb6790365840a2cb41aa4f\", element=\"389837f8-e5e9-4fc2-b29b-f8f42281566e\")>,\n",
       " <selenium.webdriver.remote.webelement.WebElement (session=\"152bffcc47fb6790365840a2cb41aa4f\", element=\"f5e7e470-4802-4366-b266-096790c58d52\")>,\n",
       " <selenium.webdriver.remote.webelement.WebElement (session=\"152bffcc47fb6790365840a2cb41aa4f\", element=\"7548688c-364e-484a-9a6c-ab602460caa8\")>]"
      ]
     },
     "execution_count": 25,
     "metadata": {},
     "output_type": "execute_result"
    }
   ],
   "source": [
    "titles_tags=driver.find_elements_by_xpath(\"//a[@class='title fw500 ellipsis']\")\n",
    "titles_tags[0:10]"
   ]
  },
  {
   "cell_type": "code",
   "execution_count": 26,
   "id": "a844a4de",
   "metadata": {},
   "outputs": [
    {
     "data": {
      "text/plain": [
       "['Senior Data Scientist',\n",
       " 'Data Science - Engineering Manager',\n",
       " 'AI Technologist Vacancy',\n",
       " 'Job Opening with Wipro For Data Scientist position',\n",
       " 'DATA Scientist with Fraud Analytics Experience',\n",
       " 'Data Scientist',\n",
       " 'Data Scientist',\n",
       " 'Data Scientist',\n",
       " 'Data Scientist',\n",
       " 'Principal - Data Scientist']"
      ]
     },
     "execution_count": 26,
     "metadata": {},
     "output_type": "execute_result"
    }
   ],
   "source": [
    "for i in titles_tags:\n",
    "    title=i.text\n",
    "    titles.append(title)\n",
    "titles=titles[0:10]\n",
    "titles"
   ]
  },
  {
   "cell_type": "code",
   "execution_count": 27,
   "id": "679c8f8b",
   "metadata": {},
   "outputs": [
    {
     "data": {
      "text/plain": [
       "[<selenium.webdriver.remote.webelement.WebElement (session=\"152bffcc47fb6790365840a2cb41aa4f\", element=\"582731de-ae1a-4541-b8c7-5576b42f4eb5\")>,\n",
       " <selenium.webdriver.remote.webelement.WebElement (session=\"152bffcc47fb6790365840a2cb41aa4f\", element=\"b4736248-e841-4c52-a675-2030688d3f6f\")>,\n",
       " <selenium.webdriver.remote.webelement.WebElement (session=\"152bffcc47fb6790365840a2cb41aa4f\", element=\"2db88a04-e3d6-4384-b6b8-7f19ca7a7628\")>,\n",
       " <selenium.webdriver.remote.webelement.WebElement (session=\"152bffcc47fb6790365840a2cb41aa4f\", element=\"758d756a-5ccf-4ea3-a399-5e3f8a2cf05c\")>,\n",
       " <selenium.webdriver.remote.webelement.WebElement (session=\"152bffcc47fb6790365840a2cb41aa4f\", element=\"eebeb6e3-b2bc-4c26-bb2a-2b433a88fb63\")>,\n",
       " <selenium.webdriver.remote.webelement.WebElement (session=\"152bffcc47fb6790365840a2cb41aa4f\", element=\"c6aec560-80d4-4fa3-a14c-a5b5f2bb7ee6\")>,\n",
       " <selenium.webdriver.remote.webelement.WebElement (session=\"152bffcc47fb6790365840a2cb41aa4f\", element=\"7cc6b80b-08d2-4aad-9cb9-890b859d1fd5\")>,\n",
       " <selenium.webdriver.remote.webelement.WebElement (session=\"152bffcc47fb6790365840a2cb41aa4f\", element=\"1b0d167e-02e7-4a87-bc78-629f81cf2e5f\")>,\n",
       " <selenium.webdriver.remote.webelement.WebElement (session=\"152bffcc47fb6790365840a2cb41aa4f\", element=\"22d0e73b-46be-4a0a-9e52-c48e67735cd4\")>,\n",
       " <selenium.webdriver.remote.webelement.WebElement (session=\"152bffcc47fb6790365840a2cb41aa4f\", element=\"59ef758f-d454-415e-be92-d6c5c69b9985\")>]"
      ]
     },
     "execution_count": 27,
     "metadata": {},
     "output_type": "execute_result"
    }
   ],
   "source": [
    "companies_tags=driver.find_elements_by_xpath(\"//a[@class='subTitle ellipsis fleft']\")\n",
    "companies_tags[0:10]"
   ]
  },
  {
   "cell_type": "code",
   "execution_count": 28,
   "id": "d48c4801",
   "metadata": {},
   "outputs": [
    {
     "data": {
      "text/plain": [
       "['Baker Hughes',\n",
       " 'Paytm',\n",
       " 'Wipro',\n",
       " 'Wipro',\n",
       " 'Concentrix Daksh Services',\n",
       " 'Applied Materials',\n",
       " 'Applied Materials',\n",
       " 'Applied Materials',\n",
       " 'Applied Materials',\n",
       " 'Schneider Electric']"
      ]
     },
     "execution_count": 28,
     "metadata": {},
     "output_type": "execute_result"
    }
   ],
   "source": [
    "for i in companies_tags:\n",
    "    title=i.text\n",
    "    employer.append(title)\n",
    "employer=employer[0:10]\n",
    "employer"
   ]
  },
  {
   "cell_type": "code",
   "execution_count": 29,
   "id": "403e0d26",
   "metadata": {},
   "outputs": [
    {
     "data": {
      "text/plain": [
       "[<selenium.webdriver.remote.webelement.WebElement (session=\"152bffcc47fb6790365840a2cb41aa4f\", element=\"8f23778d-3847-4c62-b392-88bf0aaea460\")>,\n",
       " <selenium.webdriver.remote.webelement.WebElement (session=\"152bffcc47fb6790365840a2cb41aa4f\", element=\"1d169c8f-7615-4808-ab88-489879a29ed5\")>,\n",
       " <selenium.webdriver.remote.webelement.WebElement (session=\"152bffcc47fb6790365840a2cb41aa4f\", element=\"528a955d-5f6e-4888-a9b1-648e86f8f2c5\")>,\n",
       " <selenium.webdriver.remote.webelement.WebElement (session=\"152bffcc47fb6790365840a2cb41aa4f\", element=\"883dba39-afe8-436c-90b9-ae673d44ef7f\")>,\n",
       " <selenium.webdriver.remote.webelement.WebElement (session=\"152bffcc47fb6790365840a2cb41aa4f\", element=\"bc0da381-bf21-4296-a037-756fbb81f6cf\")>,\n",
       " <selenium.webdriver.remote.webelement.WebElement (session=\"152bffcc47fb6790365840a2cb41aa4f\", element=\"c7a4fbdf-e979-4ac9-967d-09b2e167f58f\")>,\n",
       " <selenium.webdriver.remote.webelement.WebElement (session=\"152bffcc47fb6790365840a2cb41aa4f\", element=\"8ad7ddb0-54bf-469a-b68d-5b7f13c9cb70\")>,\n",
       " <selenium.webdriver.remote.webelement.WebElement (session=\"152bffcc47fb6790365840a2cb41aa4f\", element=\"52465a66-0cab-477f-80ed-396638e1ed61\")>,\n",
       " <selenium.webdriver.remote.webelement.WebElement (session=\"152bffcc47fb6790365840a2cb41aa4f\", element=\"20cd8dea-c829-45da-940c-1c804178917e\")>,\n",
       " <selenium.webdriver.remote.webelement.WebElement (session=\"152bffcc47fb6790365840a2cb41aa4f\", element=\"89577684-7b88-42a8-b84e-4f2a28763a1b\")>]"
      ]
     },
     "execution_count": 29,
     "metadata": {},
     "output_type": "execute_result"
    }
   ],
   "source": [
    "loc_tags=driver.find_elements_by_xpath(\"//li[@class='fleft grey-text br2 placeHolderLi location']/span\")\n",
    "loc_tags[0:10]"
   ]
  },
  {
   "cell_type": "code",
   "execution_count": 30,
   "id": "a84ec6d6",
   "metadata": {},
   "outputs": [
    {
     "data": {
      "text/plain": [
       "['Mumbai, Bangalore/Bengaluru',\n",
       " 'Noida, Mumbai, Bangalore/Bengaluru',\n",
       " 'Kolkata, Hyderabad/Secunderabad, Pune, Ahmedabad, Chennai, Bangalore/Bengaluru, Delhi / NCR, Mumbai (All Areas)',\n",
       " 'Kolkata, Hyderabad/Secunderabad, Chennai, Bangalore/Bengaluru, Delhi / NCR, Mumbai (All Areas)',\n",
       " 'Bangalore/Bengaluru',\n",
       " 'Bangalore/Bengaluru',\n",
       " 'Bangalore/Bengaluru',\n",
       " 'Bangalore/Bengaluru',\n",
       " 'Bangalore/Bengaluru',\n",
       " 'Bangalore/Bengaluru']"
      ]
     },
     "execution_count": 30,
     "metadata": {},
     "output_type": "execute_result"
    }
   ],
   "source": [
    "for i in loc_tags:\n",
    "    title=i.text\n",
    "    locations.append(title)\n",
    "locations=locations[0:10]\n",
    "locations"
   ]
  },
  {
   "cell_type": "code",
   "execution_count": 31,
   "id": "c3c84da2",
   "metadata": {},
   "outputs": [
    {
     "name": "stdout",
     "output_type": "stream",
     "text": [
      "10 10 10\n"
     ]
    }
   ],
   "source": [
    "print(len(titles),len(employer),len(locations))"
   ]
  },
  {
   "cell_type": "code",
   "execution_count": 32,
   "id": "1ef0ded3",
   "metadata": {},
   "outputs": [
    {
     "data": {
      "text/html": [
       "<div>\n",
       "<style scoped>\n",
       "    .dataframe tbody tr th:only-of-type {\n",
       "        vertical-align: middle;\n",
       "    }\n",
       "\n",
       "    .dataframe tbody tr th {\n",
       "        vertical-align: top;\n",
       "    }\n",
       "\n",
       "    .dataframe thead th {\n",
       "        text-align: right;\n",
       "    }\n",
       "</style>\n",
       "<table border=\"1\" class=\"dataframe\">\n",
       "  <thead>\n",
       "    <tr style=\"text-align: right;\">\n",
       "      <th></th>\n",
       "      <th>Job-Title</th>\n",
       "      <th>Job-Location</th>\n",
       "      <th>Company_Name</th>\n",
       "    </tr>\n",
       "  </thead>\n",
       "  <tbody>\n",
       "    <tr>\n",
       "      <th>0</th>\n",
       "      <td>Senior Data Scientist</td>\n",
       "      <td>Mumbai, Bangalore/Bengaluru</td>\n",
       "      <td>Baker Hughes</td>\n",
       "    </tr>\n",
       "    <tr>\n",
       "      <th>1</th>\n",
       "      <td>Data Science - Engineering Manager</td>\n",
       "      <td>Noida, Mumbai, Bangalore/Bengaluru</td>\n",
       "      <td>Paytm</td>\n",
       "    </tr>\n",
       "    <tr>\n",
       "      <th>2</th>\n",
       "      <td>AI Technologist Vacancy</td>\n",
       "      <td>Kolkata, Hyderabad/Secunderabad, Pune, Ahmedab...</td>\n",
       "      <td>Wipro</td>\n",
       "    </tr>\n",
       "    <tr>\n",
       "      <th>3</th>\n",
       "      <td>Job Opening with Wipro For Data Scientist posi...</td>\n",
       "      <td>Kolkata, Hyderabad/Secunderabad, Chennai, Bang...</td>\n",
       "      <td>Wipro</td>\n",
       "    </tr>\n",
       "    <tr>\n",
       "      <th>4</th>\n",
       "      <td>DATA Scientist with Fraud Analytics Experience</td>\n",
       "      <td>Bangalore/Bengaluru</td>\n",
       "      <td>Concentrix Daksh Services</td>\n",
       "    </tr>\n",
       "    <tr>\n",
       "      <th>5</th>\n",
       "      <td>Data Scientist</td>\n",
       "      <td>Bangalore/Bengaluru</td>\n",
       "      <td>Applied Materials</td>\n",
       "    </tr>\n",
       "    <tr>\n",
       "      <th>6</th>\n",
       "      <td>Data Scientist</td>\n",
       "      <td>Bangalore/Bengaluru</td>\n",
       "      <td>Applied Materials</td>\n",
       "    </tr>\n",
       "    <tr>\n",
       "      <th>7</th>\n",
       "      <td>Data Scientist</td>\n",
       "      <td>Bangalore/Bengaluru</td>\n",
       "      <td>Applied Materials</td>\n",
       "    </tr>\n",
       "    <tr>\n",
       "      <th>8</th>\n",
       "      <td>Data Scientist</td>\n",
       "      <td>Bangalore/Bengaluru</td>\n",
       "      <td>Applied Materials</td>\n",
       "    </tr>\n",
       "    <tr>\n",
       "      <th>9</th>\n",
       "      <td>Principal - Data Scientist</td>\n",
       "      <td>Bangalore/Bengaluru</td>\n",
       "      <td>Schneider Electric</td>\n",
       "    </tr>\n",
       "  </tbody>\n",
       "</table>\n",
       "</div>"
      ],
      "text/plain": [
       "                                           Job-Title  \\\n",
       "0                              Senior Data Scientist   \n",
       "1                 Data Science - Engineering Manager   \n",
       "2                            AI Technologist Vacancy   \n",
       "3  Job Opening with Wipro For Data Scientist posi...   \n",
       "4     DATA Scientist with Fraud Analytics Experience   \n",
       "5                                     Data Scientist   \n",
       "6                                     Data Scientist   \n",
       "7                                     Data Scientist   \n",
       "8                                     Data Scientist   \n",
       "9                         Principal - Data Scientist   \n",
       "\n",
       "                                        Job-Location  \\\n",
       "0                        Mumbai, Bangalore/Bengaluru   \n",
       "1                 Noida, Mumbai, Bangalore/Bengaluru   \n",
       "2  Kolkata, Hyderabad/Secunderabad, Pune, Ahmedab...   \n",
       "3  Kolkata, Hyderabad/Secunderabad, Chennai, Bang...   \n",
       "4                                Bangalore/Bengaluru   \n",
       "5                                Bangalore/Bengaluru   \n",
       "6                                Bangalore/Bengaluru   \n",
       "7                                Bangalore/Bengaluru   \n",
       "8                                Bangalore/Bengaluru   \n",
       "9                                Bangalore/Bengaluru   \n",
       "\n",
       "                Company_Name  \n",
       "0               Baker Hughes  \n",
       "1                      Paytm  \n",
       "2                      Wipro  \n",
       "3                      Wipro  \n",
       "4  Concentrix Daksh Services  \n",
       "5          Applied Materials  \n",
       "6          Applied Materials  \n",
       "7          Applied Materials  \n",
       "8          Applied Materials  \n",
       "9         Schneider Electric  "
      ]
     },
     "execution_count": 32,
     "metadata": {},
     "output_type": "execute_result"
    }
   ],
   "source": [
    "#Creating DataFrame\n",
    "\n",
    "\n",
    "naukri = pd.DataFrame({'Job-Title': titles,'Job-Location':locations, 'Company_Name': employer})\n",
    "naukri"
   ]
  },
  {
   "cell_type": "markdown",
   "id": "e222c16c",
   "metadata": {},
   "source": [
    "# Q3: In this question you have to scrape data using the filters available on the webpage:"
   ]
  },
  {
   "cell_type": "markdown",
   "id": "11d0741b",
   "metadata": {},
   "source": [
    "You have to use the location and salary filter.\n",
    "\n",
    "You have to scrape data for “Data Scientist” designation for first 10 job results.\n",
    "\n",
    "You have to scrape the job-title, job-location, company name, experience required. \n",
    "\n",
    "The location filter to be used is “Delhi/NCR”. The salary filter to be used is “3-6” lakhs"
   ]
  },
  {
   "cell_type": "code",
   "execution_count": 33,
   "id": "b7155989",
   "metadata": {},
   "outputs": [],
   "source": [
    "driver=webdriver.Chrome(r\"C:\\chromedriver.exe\")"
   ]
  },
  {
   "cell_type": "code",
   "execution_count": 34,
   "id": "72b2c909",
   "metadata": {},
   "outputs": [],
   "source": [
    "driver.get('https://www.naukri.com/')"
   ]
  },
  {
   "cell_type": "code",
   "execution_count": 35,
   "id": "1cf6216b",
   "metadata": {},
   "outputs": [],
   "source": [
    "search_field_designation=driver.find_element_by_class_name(\"suggestor-input \")\n",
    "search_field_designation.send_keys('Data Scientist')"
   ]
  },
  {
   "cell_type": "code",
   "execution_count": 36,
   "id": "7c1649bf",
   "metadata": {},
   "outputs": [],
   "source": [
    "search_field_location=driver.find_element_by_xpath(\"/html/body/div/div[2]/div[3]/div/div/div[5]/div/div/div/input\")\n",
    "search_field_location.send_keys('Delhi/NCR')"
   ]
  },
  {
   "cell_type": "code",
   "execution_count": 37,
   "id": "8948c1c8",
   "metadata": {},
   "outputs": [],
   "source": [
    "search_button=driver.find_element_by_xpath(\"/html/body/div/div[2]/div[3]/div/div/div[6]\")\n",
    "search_button.click()"
   ]
  },
  {
   "cell_type": "code",
   "execution_count": 38,
   "id": "457ce558",
   "metadata": {},
   "outputs": [],
   "source": [
    "search_button=driver.find_element_by_xpath(\"/html/body/div[1]/div[3]/div[2]/section[1]/div[2]/div[5]/div[2]/div[2]/label/i\")\n",
    "search_button.click()"
   ]
  },
  {
   "cell_type": "code",
   "execution_count": 39,
   "id": "104c2856",
   "metadata": {},
   "outputs": [],
   "source": [
    "titles=[]\n",
    "employer=[]\n",
    "locations=[]\n",
    "experience=[]"
   ]
  },
  {
   "cell_type": "code",
   "execution_count": 40,
   "id": "79f59d06",
   "metadata": {},
   "outputs": [
    {
     "data": {
      "text/plain": [
       "[<selenium.webdriver.remote.webelement.WebElement (session=\"01a1c10b34a28a4eb55be2a2d64a214c\", element=\"7550c061-bc8a-47aa-988a-deb6d80c6bf9\")>,\n",
       " <selenium.webdriver.remote.webelement.WebElement (session=\"01a1c10b34a28a4eb55be2a2d64a214c\", element=\"f5b11407-20d2-48f5-9568-42746d38c897\")>,\n",
       " <selenium.webdriver.remote.webelement.WebElement (session=\"01a1c10b34a28a4eb55be2a2d64a214c\", element=\"e1c96e13-6aaf-4b30-9856-c83fa08c1fb2\")>,\n",
       " <selenium.webdriver.remote.webelement.WebElement (session=\"01a1c10b34a28a4eb55be2a2d64a214c\", element=\"50dbcb22-dbef-4fc0-9c80-5b092a96e52a\")>,\n",
       " <selenium.webdriver.remote.webelement.WebElement (session=\"01a1c10b34a28a4eb55be2a2d64a214c\", element=\"da70c7d2-21d3-44e8-af03-0161607535fd\")>,\n",
       " <selenium.webdriver.remote.webelement.WebElement (session=\"01a1c10b34a28a4eb55be2a2d64a214c\", element=\"9a9eda23-0819-45fc-a47e-a7c11a17bbc2\")>,\n",
       " <selenium.webdriver.remote.webelement.WebElement (session=\"01a1c10b34a28a4eb55be2a2d64a214c\", element=\"02e966ac-d1b8-4c63-a055-004ba4d1dff6\")>,\n",
       " <selenium.webdriver.remote.webelement.WebElement (session=\"01a1c10b34a28a4eb55be2a2d64a214c\", element=\"f3feca8f-3050-4996-8c4c-65811dd70658\")>,\n",
       " <selenium.webdriver.remote.webelement.WebElement (session=\"01a1c10b34a28a4eb55be2a2d64a214c\", element=\"aca354f0-4bda-439e-9dd8-e5bc7f841cf1\")>,\n",
       " <selenium.webdriver.remote.webelement.WebElement (session=\"01a1c10b34a28a4eb55be2a2d64a214c\", element=\"2a0233ed-eb75-4a30-9661-520cfb8f4c2b\")>]"
      ]
     },
     "execution_count": 40,
     "metadata": {},
     "output_type": "execute_result"
    }
   ],
   "source": [
    "titles_tags=driver.find_elements_by_xpath(\"//a[@class='title fw500 ellipsis']\")\n",
    "titles_tags[0:10]"
   ]
  },
  {
   "cell_type": "code",
   "execution_count": 41,
   "id": "1510b076",
   "metadata": {},
   "outputs": [
    {
     "data": {
      "text/plain": [
       "['Job Opening with Wipro For Data Scientist position',\n",
       " 'DATA Scientist with Fraud Analytics Experience',\n",
       " 'Specialist - Data Scientist',\n",
       " 'Data Scientist',\n",
       " 'Hiring For AI/ML professionals',\n",
       " 'Data Scientist',\n",
       " 'Concentrix Hiring For AI Engineer Senior AI Developer Immediate Joiner',\n",
       " 'Data Scientist',\n",
       " 'Specialist - Data Science - GMO',\n",
       " 'Data Scientist']"
      ]
     },
     "execution_count": 41,
     "metadata": {},
     "output_type": "execute_result"
    }
   ],
   "source": [
    "for i in titles_tags:\n",
    "    title=i.text\n",
    "    titles.append(title)\n",
    "titles=titles[0:10]\n",
    "titles"
   ]
  },
  {
   "cell_type": "code",
   "execution_count": 42,
   "id": "5809dd8e",
   "metadata": {},
   "outputs": [
    {
     "data": {
      "text/plain": [
       "[<selenium.webdriver.remote.webelement.WebElement (session=\"01a1c10b34a28a4eb55be2a2d64a214c\", element=\"7318ce53-2e99-4edb-8040-aca8758a36c5\")>,\n",
       " <selenium.webdriver.remote.webelement.WebElement (session=\"01a1c10b34a28a4eb55be2a2d64a214c\", element=\"521efd64-646b-4627-a9f2-f3071811de8d\")>,\n",
       " <selenium.webdriver.remote.webelement.WebElement (session=\"01a1c10b34a28a4eb55be2a2d64a214c\", element=\"e7103738-7954-4586-82e5-9c9d4fd10538\")>,\n",
       " <selenium.webdriver.remote.webelement.WebElement (session=\"01a1c10b34a28a4eb55be2a2d64a214c\", element=\"75267995-eb87-4604-b840-abc216a075f4\")>,\n",
       " <selenium.webdriver.remote.webelement.WebElement (session=\"01a1c10b34a28a4eb55be2a2d64a214c\", element=\"77cdf2d0-424c-44d7-9da1-ecc5741d1970\")>,\n",
       " <selenium.webdriver.remote.webelement.WebElement (session=\"01a1c10b34a28a4eb55be2a2d64a214c\", element=\"bacb2f47-c935-469e-a95b-0d15adedf08f\")>,\n",
       " <selenium.webdriver.remote.webelement.WebElement (session=\"01a1c10b34a28a4eb55be2a2d64a214c\", element=\"4a0219cb-46bb-47b6-b626-0ccfa5a105db\")>,\n",
       " <selenium.webdriver.remote.webelement.WebElement (session=\"01a1c10b34a28a4eb55be2a2d64a214c\", element=\"48731032-b3f2-4b6f-a050-601d838855f5\")>,\n",
       " <selenium.webdriver.remote.webelement.WebElement (session=\"01a1c10b34a28a4eb55be2a2d64a214c\", element=\"afcbccf9-2321-433a-a449-902115be6641\")>,\n",
       " <selenium.webdriver.remote.webelement.WebElement (session=\"01a1c10b34a28a4eb55be2a2d64a214c\", element=\"5cfaf69e-3304-4009-9b6e-274d20a4c86c\")>]"
      ]
     },
     "execution_count": 42,
     "metadata": {},
     "output_type": "execute_result"
    }
   ],
   "source": [
    "companies_tags=driver.find_elements_by_xpath(\"//a[@class='subTitle ellipsis fleft']\")\n",
    "companies_tags[0:10]"
   ]
  },
  {
   "cell_type": "code",
   "execution_count": 43,
   "id": "28a9c49a",
   "metadata": {},
   "outputs": [
    {
     "data": {
      "text/plain": [
       "['Wipro',\n",
       " 'Concentrix Daksh Services',\n",
       " 'AT and T Global Business Services India P. Ltd.',\n",
       " 'UPL',\n",
       " 'EY',\n",
       " 'Infosys',\n",
       " 'Concentrix',\n",
       " 'Applied Materials',\n",
       " \"Dr.Reddy's\",\n",
       " 'Rekruiters Resource Managment LLP']"
      ]
     },
     "execution_count": 43,
     "metadata": {},
     "output_type": "execute_result"
    }
   ],
   "source": [
    "for i in companies_tags:\n",
    "    title=i.text\n",
    "    employer.append(title)\n",
    "employer=employer[0:10]\n",
    "employer"
   ]
  },
  {
   "cell_type": "code",
   "execution_count": 44,
   "id": "00616e8e",
   "metadata": {},
   "outputs": [
    {
     "data": {
      "text/plain": [
       "[<selenium.webdriver.remote.webelement.WebElement (session=\"01a1c10b34a28a4eb55be2a2d64a214c\", element=\"ec4e74ff-6af5-4274-980a-5bd6045ecbc6\")>,\n",
       " <selenium.webdriver.remote.webelement.WebElement (session=\"01a1c10b34a28a4eb55be2a2d64a214c\", element=\"57ba1ae9-5bd0-44db-8897-9dd16a732c55\")>,\n",
       " <selenium.webdriver.remote.webelement.WebElement (session=\"01a1c10b34a28a4eb55be2a2d64a214c\", element=\"a609e56c-6de7-4f38-835b-3e4d3cb0a702\")>,\n",
       " <selenium.webdriver.remote.webelement.WebElement (session=\"01a1c10b34a28a4eb55be2a2d64a214c\", element=\"db7c980b-008d-423c-9960-7739b8bc5280\")>,\n",
       " <selenium.webdriver.remote.webelement.WebElement (session=\"01a1c10b34a28a4eb55be2a2d64a214c\", element=\"433f30f8-f365-4075-81fb-e0097328f277\")>,\n",
       " <selenium.webdriver.remote.webelement.WebElement (session=\"01a1c10b34a28a4eb55be2a2d64a214c\", element=\"aad6611b-ecab-4e37-8c1e-8844175b39e3\")>,\n",
       " <selenium.webdriver.remote.webelement.WebElement (session=\"01a1c10b34a28a4eb55be2a2d64a214c\", element=\"1b5c193c-a5d6-44a7-8e50-a625f7875921\")>,\n",
       " <selenium.webdriver.remote.webelement.WebElement (session=\"01a1c10b34a28a4eb55be2a2d64a214c\", element=\"84dcb482-47b2-41ba-ac47-554bb4644287\")>,\n",
       " <selenium.webdriver.remote.webelement.WebElement (session=\"01a1c10b34a28a4eb55be2a2d64a214c\", element=\"65732e51-72c6-419d-9d9e-fe4288f20cbd\")>,\n",
       " <selenium.webdriver.remote.webelement.WebElement (session=\"01a1c10b34a28a4eb55be2a2d64a214c\", element=\"9774394b-1cb0-468e-b7f4-c7ff841bb1ac\")>]"
      ]
     },
     "execution_count": 44,
     "metadata": {},
     "output_type": "execute_result"
    }
   ],
   "source": [
    "loc_tags=driver.find_elements_by_xpath(\"//li[@class='fleft grey-text br2 placeHolderLi location']/span\")\n",
    "loc_tags[0:10]"
   ]
  },
  {
   "cell_type": "code",
   "execution_count": 45,
   "id": "6dfb5aff",
   "metadata": {},
   "outputs": [
    {
     "data": {
      "text/plain": [
       "['Kolkata, Hyderabad/Secunderabad, Chennai, Bangalore/Bengaluru, Delhi / NCR, Mumbai (All Areas)',\n",
       " 'Bangalore/Bengaluru',\n",
       " 'Bangalore/Bengaluru',\n",
       " 'Mumbai, Bangalore/Bengaluru',\n",
       " 'Kochi/Cochin, Bangalore/Bengaluru',\n",
       " 'Bangalore/Bengaluru',\n",
       " 'Remote',\n",
       " 'Bangalore/Bengaluru',\n",
       " 'Hyderabad/Secunderabad',\n",
       " 'Hyderabad/Secunderabad, Pune, Bangalore/Bengaluru']"
      ]
     },
     "execution_count": 45,
     "metadata": {},
     "output_type": "execute_result"
    }
   ],
   "source": [
    "for i in loc_tags:\n",
    "    title=i.text\n",
    "    locations.append(title)\n",
    "locations=locations[0:10]\n",
    "locations"
   ]
  },
  {
   "cell_type": "code",
   "execution_count": 46,
   "id": "ff2bc6ee",
   "metadata": {},
   "outputs": [
    {
     "data": {
      "text/plain": [
       "[<selenium.webdriver.remote.webelement.WebElement (session=\"01a1c10b34a28a4eb55be2a2d64a214c\", element=\"89061e75-67f4-42d7-9b13-a482dd5dcfe8\")>,\n",
       " <selenium.webdriver.remote.webelement.WebElement (session=\"01a1c10b34a28a4eb55be2a2d64a214c\", element=\"6d9fa6ff-5d25-4dbc-b2dd-331eb1484e62\")>,\n",
       " <selenium.webdriver.remote.webelement.WebElement (session=\"01a1c10b34a28a4eb55be2a2d64a214c\", element=\"c71d1a5c-df16-4acc-be29-fcd6d024758c\")>,\n",
       " <selenium.webdriver.remote.webelement.WebElement (session=\"01a1c10b34a28a4eb55be2a2d64a214c\", element=\"5579280c-4398-444d-929d-ee9b38012b89\")>,\n",
       " <selenium.webdriver.remote.webelement.WebElement (session=\"01a1c10b34a28a4eb55be2a2d64a214c\", element=\"1e0ae357-56e4-4ba1-829e-5ec2a1a87af7\")>,\n",
       " <selenium.webdriver.remote.webelement.WebElement (session=\"01a1c10b34a28a4eb55be2a2d64a214c\", element=\"d8a6cb74-7a17-4325-aab5-b1398433d621\")>,\n",
       " <selenium.webdriver.remote.webelement.WebElement (session=\"01a1c10b34a28a4eb55be2a2d64a214c\", element=\"0eb87994-476a-4c9a-a7fd-a78a2c3a7b94\")>,\n",
       " <selenium.webdriver.remote.webelement.WebElement (session=\"01a1c10b34a28a4eb55be2a2d64a214c\", element=\"32e49778-3c1b-42d1-9d2d-95f4c8f842b7\")>,\n",
       " <selenium.webdriver.remote.webelement.WebElement (session=\"01a1c10b34a28a4eb55be2a2d64a214c\", element=\"b8233498-cecf-49db-b8a9-2b82f21388c3\")>,\n",
       " <selenium.webdriver.remote.webelement.WebElement (session=\"01a1c10b34a28a4eb55be2a2d64a214c\", element=\"264b7dcc-2cb8-4ceb-8f40-6a81b987a706\")>]"
      ]
     },
     "execution_count": 46,
     "metadata": {},
     "output_type": "execute_result"
    }
   ],
   "source": [
    "exp_tags=driver.find_elements_by_xpath(\"//li[@class='fleft grey-text br2 placeHolderLi experience']/span\")\n",
    "exp_tags[0:10]"
   ]
  },
  {
   "cell_type": "code",
   "execution_count": 47,
   "id": "be990f34",
   "metadata": {},
   "outputs": [
    {
     "data": {
      "text/plain": [
       "['2-7 Yrs',\n",
       " '2-4 Yrs',\n",
       " '1-4 Yrs',\n",
       " '2-7 Yrs',\n",
       " '1-3 Yrs',\n",
       " '2-7 Yrs',\n",
       " '3-8 Yrs',\n",
       " '4-7 Yrs',\n",
       " '2-6 Yrs',\n",
       " '4-8 Yrs']"
      ]
     },
     "execution_count": 47,
     "metadata": {},
     "output_type": "execute_result"
    }
   ],
   "source": [
    "for i in exp_tags:\n",
    "    title=i.text\n",
    "    experience.append(title)\n",
    "experience=experience[0:10]\n",
    "experience"
   ]
  },
  {
   "cell_type": "code",
   "execution_count": 48,
   "id": "439eff68",
   "metadata": {},
   "outputs": [
    {
     "name": "stdout",
     "output_type": "stream",
     "text": [
      "10 10 10 10\n"
     ]
    }
   ],
   "source": [
    "print(len(titles),len(employer),len(locations),len(experience))"
   ]
  },
  {
   "cell_type": "code",
   "execution_count": 49,
   "id": "d80fe401",
   "metadata": {},
   "outputs": [
    {
     "data": {
      "text/html": [
       "<div>\n",
       "<style scoped>\n",
       "    .dataframe tbody tr th:only-of-type {\n",
       "        vertical-align: middle;\n",
       "    }\n",
       "\n",
       "    .dataframe tbody tr th {\n",
       "        vertical-align: top;\n",
       "    }\n",
       "\n",
       "    .dataframe thead th {\n",
       "        text-align: right;\n",
       "    }\n",
       "</style>\n",
       "<table border=\"1\" class=\"dataframe\">\n",
       "  <thead>\n",
       "    <tr style=\"text-align: right;\">\n",
       "      <th></th>\n",
       "      <th>Job-Title</th>\n",
       "      <th>Job-Location</th>\n",
       "      <th>Company_Name</th>\n",
       "      <th>Experience_required</th>\n",
       "    </tr>\n",
       "  </thead>\n",
       "  <tbody>\n",
       "    <tr>\n",
       "      <th>0</th>\n",
       "      <td>Job Opening with Wipro For Data Scientist posi...</td>\n",
       "      <td>Kolkata, Hyderabad/Secunderabad, Chennai, Bang...</td>\n",
       "      <td>Wipro</td>\n",
       "      <td>2-7 Yrs</td>\n",
       "    </tr>\n",
       "    <tr>\n",
       "      <th>1</th>\n",
       "      <td>DATA Scientist with Fraud Analytics Experience</td>\n",
       "      <td>Bangalore/Bengaluru</td>\n",
       "      <td>Concentrix Daksh Services</td>\n",
       "      <td>2-4 Yrs</td>\n",
       "    </tr>\n",
       "    <tr>\n",
       "      <th>2</th>\n",
       "      <td>Specialist - Data Scientist</td>\n",
       "      <td>Bangalore/Bengaluru</td>\n",
       "      <td>AT and T Global Business Services India P. Ltd.</td>\n",
       "      <td>1-4 Yrs</td>\n",
       "    </tr>\n",
       "    <tr>\n",
       "      <th>3</th>\n",
       "      <td>Data Scientist</td>\n",
       "      <td>Mumbai, Bangalore/Bengaluru</td>\n",
       "      <td>UPL</td>\n",
       "      <td>2-7 Yrs</td>\n",
       "    </tr>\n",
       "    <tr>\n",
       "      <th>4</th>\n",
       "      <td>Hiring For AI/ML professionals</td>\n",
       "      <td>Kochi/Cochin, Bangalore/Bengaluru</td>\n",
       "      <td>EY</td>\n",
       "      <td>1-3 Yrs</td>\n",
       "    </tr>\n",
       "    <tr>\n",
       "      <th>5</th>\n",
       "      <td>Data Scientist</td>\n",
       "      <td>Bangalore/Bengaluru</td>\n",
       "      <td>Infosys</td>\n",
       "      <td>2-7 Yrs</td>\n",
       "    </tr>\n",
       "    <tr>\n",
       "      <th>6</th>\n",
       "      <td>Concentrix Hiring For AI Engineer Senior AI De...</td>\n",
       "      <td>Remote</td>\n",
       "      <td>Concentrix</td>\n",
       "      <td>3-8 Yrs</td>\n",
       "    </tr>\n",
       "    <tr>\n",
       "      <th>7</th>\n",
       "      <td>Data Scientist</td>\n",
       "      <td>Bangalore/Bengaluru</td>\n",
       "      <td>Applied Materials</td>\n",
       "      <td>4-7 Yrs</td>\n",
       "    </tr>\n",
       "    <tr>\n",
       "      <th>8</th>\n",
       "      <td>Specialist - Data Science - GMO</td>\n",
       "      <td>Hyderabad/Secunderabad</td>\n",
       "      <td>Dr.Reddy's</td>\n",
       "      <td>2-6 Yrs</td>\n",
       "    </tr>\n",
       "    <tr>\n",
       "      <th>9</th>\n",
       "      <td>Data Scientist</td>\n",
       "      <td>Hyderabad/Secunderabad, Pune, Bangalore/Bengaluru</td>\n",
       "      <td>Rekruiters Resource Managment LLP</td>\n",
       "      <td>4-8 Yrs</td>\n",
       "    </tr>\n",
       "  </tbody>\n",
       "</table>\n",
       "</div>"
      ],
      "text/plain": [
       "                                           Job-Title  \\\n",
       "0  Job Opening with Wipro For Data Scientist posi...   \n",
       "1     DATA Scientist with Fraud Analytics Experience   \n",
       "2                        Specialist - Data Scientist   \n",
       "3                                     Data Scientist   \n",
       "4                     Hiring For AI/ML professionals   \n",
       "5                                     Data Scientist   \n",
       "6  Concentrix Hiring For AI Engineer Senior AI De...   \n",
       "7                                     Data Scientist   \n",
       "8                    Specialist - Data Science - GMO   \n",
       "9                                     Data Scientist   \n",
       "\n",
       "                                        Job-Location  \\\n",
       "0  Kolkata, Hyderabad/Secunderabad, Chennai, Bang...   \n",
       "1                                Bangalore/Bengaluru   \n",
       "2                                Bangalore/Bengaluru   \n",
       "3                        Mumbai, Bangalore/Bengaluru   \n",
       "4                  Kochi/Cochin, Bangalore/Bengaluru   \n",
       "5                                Bangalore/Bengaluru   \n",
       "6                                             Remote   \n",
       "7                                Bangalore/Bengaluru   \n",
       "8                             Hyderabad/Secunderabad   \n",
       "9  Hyderabad/Secunderabad, Pune, Bangalore/Bengaluru   \n",
       "\n",
       "                                      Company_Name Experience_required  \n",
       "0                                            Wipro             2-7 Yrs  \n",
       "1                        Concentrix Daksh Services             2-4 Yrs  \n",
       "2  AT and T Global Business Services India P. Ltd.             1-4 Yrs  \n",
       "3                                              UPL             2-7 Yrs  \n",
       "4                                               EY             1-3 Yrs  \n",
       "5                                          Infosys             2-7 Yrs  \n",
       "6                                       Concentrix             3-8 Yrs  \n",
       "7                                Applied Materials             4-7 Yrs  \n",
       "8                                       Dr.Reddy's             2-6 Yrs  \n",
       "9                Rekruiters Resource Managment LLP             4-8 Yrs  "
      ]
     },
     "execution_count": 49,
     "metadata": {},
     "output_type": "execute_result"
    }
   ],
   "source": [
    "#Creating DataFrame\n",
    "\n",
    "\n",
    "naukri = pd.DataFrame({'Job-Title': titles,'Job-Location':locations, 'Company_Name': employer, 'Experience_required': experience})\n",
    "naukri"
   ]
  },
  {
   "cell_type": "markdown",
   "id": "d52d5455",
   "metadata": {},
   "source": [
    "# Q4: Scrape data of first 100 sunglasses listings on flipkart.com. You have to scrape four attributes:"
   ]
  },
  {
   "cell_type": "markdown",
   "id": "c801a21e",
   "metadata": {},
   "source": [
    "1. Brand\n",
    "2. Product Description\n",
    "3. Price\n",
    "4. Discount %"
   ]
  },
  {
   "cell_type": "code",
   "execution_count": 50,
   "id": "6f3efb70",
   "metadata": {},
   "outputs": [],
   "source": [
    "driver=webdriver.Chrome(r\"C:\\chromedriver.exe\")"
   ]
  },
  {
   "cell_type": "code",
   "execution_count": 51,
   "id": "639dc19f",
   "metadata": {},
   "outputs": [],
   "source": [
    "driver.get('https://www.flipkart.com/')"
   ]
  },
  {
   "cell_type": "code",
   "execution_count": 52,
   "id": "18a4a5ca",
   "metadata": {},
   "outputs": [],
   "source": [
    "login=driver.find_element_by_xpath(\"/html/body/div[2]/div/div/button\")\n",
    "login.click()"
   ]
  },
  {
   "cell_type": "code",
   "execution_count": 53,
   "id": "01e56714",
   "metadata": {},
   "outputs": [],
   "source": [
    "product_name=driver.find_element_by_xpath(\"/html/body/div[1]/div/div[1]/div[1]/div[2]/div[2]/form/div/div/input\")\n",
    "product_name.send_keys('sunglasses')"
   ]
  },
  {
   "cell_type": "code",
   "execution_count": 54,
   "id": "6dec672f",
   "metadata": {},
   "outputs": [],
   "source": [
    "search_button=driver.find_element_by_xpath(\"/html/body/div[1]/div/div[1]/div[1]/div[2]/div[2]/form/div/button\")\n",
    "search_button.click()"
   ]
  },
  {
   "cell_type": "code",
   "execution_count": 55,
   "id": "cc273435",
   "metadata": {},
   "outputs": [],
   "source": [
    "brand=[]\n",
    "prod_des=[]\n",
    "price=[]\n",
    "discount=[]"
   ]
  },
  {
   "cell_type": "code",
   "execution_count": 56,
   "id": "7f500d56",
   "metadata": {},
   "outputs": [],
   "source": [
    "for i in range(0,3):\n",
    "    names_tags=driver.find_elements_by_xpath(\"//div[@class='_2WkVRV']\")\n",
    "    for i in names_tags:\n",
    "        names=i.text\n",
    "        brand.append(names)\n",
    "    next_button=driver.find_element_by_xpath(\"/html/body/div[1]/div/div[3]/div[1]/div[2]/div[12]/div/div/nav/a[2]\")\n",
    "    next_button.click()\n",
    "    time.sleep(5)"
   ]
  },
  {
   "cell_type": "code",
   "execution_count": 57,
   "id": "61ce883a",
   "metadata": {},
   "outputs": [],
   "source": [
    "brand=brand[0:100]"
   ]
  },
  {
   "cell_type": "code",
   "execution_count": 58,
   "id": "f56a2fc8",
   "metadata": {},
   "outputs": [],
   "source": [
    "for i in range(0,3):\n",
    "    descp_tags=driver.find_elements_by_xpath(\"//a[@class='IRpwTa']\")\n",
    "    for i in descp_tags:\n",
    "        descp=i.text\n",
    "        prod_des.append(descp)\n",
    "    next_button=driver.find_element_by_xpath(\"/html/body/div[1]/div/div[3]/div[1]/div[2]/div[12]/div/div/nav/a[2]\")\n",
    "    next_button.click()\n",
    "    time.sleep(5)"
   ]
  },
  {
   "cell_type": "code",
   "execution_count": 59,
   "id": "bb16a62e",
   "metadata": {},
   "outputs": [],
   "source": [
    "prod_des=prod_des[0:100]"
   ]
  },
  {
   "cell_type": "code",
   "execution_count": 60,
   "id": "0c7ccb3e",
   "metadata": {},
   "outputs": [],
   "source": [
    "for i in range(0,3):\n",
    "    amt_tags=driver.find_elements_by_xpath(\"//div[@class='_30jeq3']\")\n",
    "    for i in amt_tags:\n",
    "        amount=i.text\n",
    "        price.append(amount)\n",
    "    next_button=driver.find_element_by_xpath(\"/html/body/div[1]/div/div[3]/div[1]/div[2]/div[12]/div/div/nav/a[2]\")\n",
    "    next_button.click()\n",
    "    time.sleep(5)"
   ]
  },
  {
   "cell_type": "code",
   "execution_count": 61,
   "id": "2e1cef2f",
   "metadata": {},
   "outputs": [],
   "source": [
    "price=price[0:100]"
   ]
  },
  {
   "cell_type": "code",
   "execution_count": 62,
   "id": "6e1dad61",
   "metadata": {},
   "outputs": [],
   "source": [
    "for i in range(0,3):\n",
    "    free_tags=driver.find_elements_by_xpath(\"//div[@class='_3Ay6Sb']/span\")\n",
    "    for i in free_tags:\n",
    "        free=i.text\n",
    "        discount.append(free)\n",
    "    next_button=driver.find_element_by_xpath(\"/html/body/div[1]/div/div[3]/div[1]/div[2]/div[12]/div/div/nav/a[2]\")\n",
    "    next_button.click()\n",
    "    time.sleep(5)"
   ]
  },
  {
   "cell_type": "code",
   "execution_count": 63,
   "id": "8ef03188",
   "metadata": {},
   "outputs": [],
   "source": [
    "discount=discount[0:100]"
   ]
  },
  {
   "cell_type": "code",
   "execution_count": 64,
   "id": "7d2b6407",
   "metadata": {},
   "outputs": [
    {
     "name": "stdout",
     "output_type": "stream",
     "text": [
      "100 100 100 100\n"
     ]
    }
   ],
   "source": [
    "print(len(brand),len(prod_des),len(price),len(discount))"
   ]
  },
  {
   "cell_type": "code",
   "execution_count": 65,
   "id": "6347a0be",
   "metadata": {},
   "outputs": [
    {
     "data": {
      "text/html": [
       "<div>\n",
       "<style scoped>\n",
       "    .dataframe tbody tr th:only-of-type {\n",
       "        vertical-align: middle;\n",
       "    }\n",
       "\n",
       "    .dataframe tbody tr th {\n",
       "        vertical-align: top;\n",
       "    }\n",
       "\n",
       "    .dataframe thead th {\n",
       "        text-align: right;\n",
       "    }\n",
       "</style>\n",
       "<table border=\"1\" class=\"dataframe\">\n",
       "  <thead>\n",
       "    <tr style=\"text-align: right;\">\n",
       "      <th></th>\n",
       "      <th>Brand</th>\n",
       "      <th>Product Description</th>\n",
       "      <th>Price</th>\n",
       "      <th>Discount</th>\n",
       "    </tr>\n",
       "  </thead>\n",
       "  <tbody>\n",
       "    <tr>\n",
       "      <th>0</th>\n",
       "      <td>Arnette</td>\n",
       "      <td>UV Protection Retro Square Sunglasses (Free Size)</td>\n",
       "      <td>₹2,879</td>\n",
       "      <td>77% off</td>\n",
       "    </tr>\n",
       "    <tr>\n",
       "      <th>1</th>\n",
       "      <td>Singco India</td>\n",
       "      <td>Others Oval Sunglasses (Free Size)</td>\n",
       "      <td>₹664</td>\n",
       "      <td>49% off</td>\n",
       "    </tr>\n",
       "    <tr>\n",
       "      <th>2</th>\n",
       "      <td>SRPM</td>\n",
       "      <td>UV Protection Cat-eye Sunglasses (Free Size)</td>\n",
       "      <td>₹211</td>\n",
       "      <td>80% off</td>\n",
       "    </tr>\n",
       "    <tr>\n",
       "      <th>3</th>\n",
       "      <td>Mi</td>\n",
       "      <td>UV Protection Rectangular Sunglasses (52)</td>\n",
       "      <td>₹839</td>\n",
       "      <td>10% off</td>\n",
       "    </tr>\n",
       "    <tr>\n",
       "      <th>4</th>\n",
       "      <td>PIRASO</td>\n",
       "      <td>UV Protection, Gradient Retro Square Sunglasse...</td>\n",
       "      <td>₹224</td>\n",
       "      <td>67% off</td>\n",
       "    </tr>\n",
       "    <tr>\n",
       "      <th>...</th>\n",
       "      <td>...</td>\n",
       "      <td>...</td>\n",
       "      <td>...</td>\n",
       "      <td>...</td>\n",
       "    </tr>\n",
       "    <tr>\n",
       "      <th>95</th>\n",
       "      <td>ROZZETTA CRAFT</td>\n",
       "      <td>UV Protection Over-sized Sunglasses (61)</td>\n",
       "      <td>₹399</td>\n",
       "      <td>70% off</td>\n",
       "    </tr>\n",
       "    <tr>\n",
       "      <th>96</th>\n",
       "      <td>New Specs</td>\n",
       "      <td>Polarized Rectangular Sunglasses (60)</td>\n",
       "      <td>₹264</td>\n",
       "      <td>65% off</td>\n",
       "    </tr>\n",
       "    <tr>\n",
       "      <th>97</th>\n",
       "      <td>ROZZETTA CRAFT</td>\n",
       "      <td>UV Protection Aviator Sunglasses (58)</td>\n",
       "      <td>₹319</td>\n",
       "      <td>20% off</td>\n",
       "    </tr>\n",
       "    <tr>\n",
       "      <th>98</th>\n",
       "      <td>ROZZETTA CRAFT</td>\n",
       "      <td>UV Protection Shield Sunglasses (Free Size)</td>\n",
       "      <td>₹499</td>\n",
       "      <td>20% off</td>\n",
       "    </tr>\n",
       "    <tr>\n",
       "      <th>99</th>\n",
       "      <td>GANSTA</td>\n",
       "      <td>UV Protection, Gradient Oval Sunglasses (58)</td>\n",
       "      <td>₹314</td>\n",
       "      <td>10% off</td>\n",
       "    </tr>\n",
       "  </tbody>\n",
       "</table>\n",
       "<p>100 rows × 4 columns</p>\n",
       "</div>"
      ],
      "text/plain": [
       "             Brand                                Product Description   Price  \\\n",
       "0          Arnette  UV Protection Retro Square Sunglasses (Free Size)  ₹2,879   \n",
       "1     Singco India                 Others Oval Sunglasses (Free Size)    ₹664   \n",
       "2             SRPM       UV Protection Cat-eye Sunglasses (Free Size)    ₹211   \n",
       "3               Mi          UV Protection Rectangular Sunglasses (52)    ₹839   \n",
       "4           PIRASO  UV Protection, Gradient Retro Square Sunglasse...    ₹224   \n",
       "..             ...                                                ...     ...   \n",
       "95  ROZZETTA CRAFT           UV Protection Over-sized Sunglasses (61)    ₹399   \n",
       "96       New Specs              Polarized Rectangular Sunglasses (60)    ₹264   \n",
       "97  ROZZETTA CRAFT              UV Protection Aviator Sunglasses (58)    ₹319   \n",
       "98  ROZZETTA CRAFT        UV Protection Shield Sunglasses (Free Size)    ₹499   \n",
       "99          GANSTA       UV Protection, Gradient Oval Sunglasses (58)    ₹314   \n",
       "\n",
       "   Discount  \n",
       "0   77% off  \n",
       "1   49% off  \n",
       "2   80% off  \n",
       "3   10% off  \n",
       "4   67% off  \n",
       "..      ...  \n",
       "95  70% off  \n",
       "96  65% off  \n",
       "97  20% off  \n",
       "98  20% off  \n",
       "99  10% off  \n",
       "\n",
       "[100 rows x 4 columns]"
      ]
     },
     "execution_count": 65,
     "metadata": {},
     "output_type": "execute_result"
    }
   ],
   "source": [
    "#Creating DataFrame\n",
    "\n",
    "\n",
    "sunglasses = pd.DataFrame({'Brand': brand,' Product Description':prod_des, 'Price': price, 'Discount': discount})\n",
    "sunglasses"
   ]
  },
  {
   "cell_type": "markdown",
   "id": "6c12293e",
   "metadata": {},
   "source": [
    "# Q5: Scrape 100 reviews data from flipkart.com for iphone11 phone."
   ]
  },
  {
   "cell_type": "markdown",
   "id": "129200c3",
   "metadata": {},
   "source": [
    "We have to scrape the tick marked attributes.These are:\n",
    "1. Rating\n",
    "2. Review summary\n",
    "3. Full review"
   ]
  },
  {
   "cell_type": "code",
   "execution_count": 66,
   "id": "41927be9",
   "metadata": {},
   "outputs": [],
   "source": [
    "driver=webdriver.Chrome(r\"C:\\chromedriver.exe\")"
   ]
  },
  {
   "cell_type": "code",
   "execution_count": 67,
   "id": "267ad07d",
   "metadata": {},
   "outputs": [],
   "source": [
    "driver.get('https://www.flipkart.com/apple-iphone-11-black-64-gb-includes-earpods-power-adapter/product-reviews/itm0f37c2240b217?pid=MOBFKCTSVZAXUHGR&lid=LSTMOBFKCTSVZAXUHGREPBFGI&marketplace=FLIPKART')"
   ]
  },
  {
   "cell_type": "code",
   "execution_count": 68,
   "id": "c6838182",
   "metadata": {},
   "outputs": [],
   "source": [
    "ratings=[]\n",
    "short_review=[]\n",
    "full_review=[]"
   ]
  },
  {
   "cell_type": "code",
   "execution_count": 69,
   "id": "3fdd1fec",
   "metadata": {},
   "outputs": [],
   "source": [
    "for i in range(0,10):\n",
    "    star_tags=driver.find_elements_by_xpath(\"//div[@class='_3LWZlK _1BLPMq']\")\n",
    "    for i in star_tags:\n",
    "        rat=i.text\n",
    "        ratings.append(rat)\n",
    "    next_button=driver.find_element_by_xpath(\"/html/body/div/div/div[3]/div/div/div[2]/div[13]/div/div/nav\")\n",
    "    next_button.click()\n",
    "    time.sleep(10)"
   ]
  },
  {
   "cell_type": "code",
   "execution_count": 70,
   "id": "bb1273df",
   "metadata": {},
   "outputs": [
    {
     "name": "stdout",
     "output_type": "stream",
     "text": [
      "100\n"
     ]
    }
   ],
   "source": [
    "print(len(ratings))"
   ]
  },
  {
   "cell_type": "code",
   "execution_count": 71,
   "id": "150f732c",
   "metadata": {},
   "outputs": [],
   "source": [
    "for i in range(0,10):\n",
    "    short_rev_tags=driver.find_elements_by_xpath(\"//p[@class='_2-N8zT']\")\n",
    "    for i in short_rev_tags:\n",
    "        s_rev=i.text\n",
    "        short_review.append(s_rev)\n",
    "    next_button=driver.find_element_by_xpath(\"/html/body/div/div/div[3]/div/div/div[2]/div[13]/div/div/nav\")\n",
    "    next_button.click()\n",
    "    time.sleep(10)"
   ]
  },
  {
   "cell_type": "code",
   "execution_count": 72,
   "id": "00e77016",
   "metadata": {},
   "outputs": [
    {
     "name": "stdout",
     "output_type": "stream",
     "text": [
      "100\n"
     ]
    }
   ],
   "source": [
    "print(len(short_review))"
   ]
  },
  {
   "cell_type": "code",
   "execution_count": 73,
   "id": "e839ab5e",
   "metadata": {},
   "outputs": [],
   "source": [
    "for i in range(0,10):\n",
    "    long_rev_tags=driver.find_elements_by_xpath(\"//div[@class='t-ZTKy']\")\n",
    "    for i in long_rev_tags:\n",
    "        l_rev=i.text\n",
    "        full_review.append(l_rev)\n",
    "    next_button=driver.find_element_by_xpath(\"/html/body/div/div/div[3]/div/div/div[2]/div[13]/div/div/nav\")\n",
    "    next_button.click()\n",
    "    time.sleep(10)"
   ]
  },
  {
   "cell_type": "code",
   "execution_count": 74,
   "id": "6521c1c7",
   "metadata": {},
   "outputs": [
    {
     "name": "stdout",
     "output_type": "stream",
     "text": [
      "100\n"
     ]
    }
   ],
   "source": [
    "print(len(full_review))"
   ]
  },
  {
   "cell_type": "code",
   "execution_count": 75,
   "id": "6d5c3fd3",
   "metadata": {},
   "outputs": [
    {
     "data": {
      "text/html": [
       "<div>\n",
       "<style scoped>\n",
       "    .dataframe tbody tr th:only-of-type {\n",
       "        vertical-align: middle;\n",
       "    }\n",
       "\n",
       "    .dataframe tbody tr th {\n",
       "        vertical-align: top;\n",
       "    }\n",
       "\n",
       "    .dataframe thead th {\n",
       "        text-align: right;\n",
       "    }\n",
       "</style>\n",
       "<table border=\"1\" class=\"dataframe\">\n",
       "  <thead>\n",
       "    <tr style=\"text-align: right;\">\n",
       "      <th></th>\n",
       "      <th>Rating</th>\n",
       "      <th>Review summary</th>\n",
       "      <th>Full review</th>\n",
       "    </tr>\n",
       "  </thead>\n",
       "  <tbody>\n",
       "    <tr>\n",
       "      <th>0</th>\n",
       "      <td>5</td>\n",
       "      <td>Terrific purchase</td>\n",
       "      <td>Its Very awesome product working and good came...</td>\n",
       "    </tr>\n",
       "    <tr>\n",
       "      <th>1</th>\n",
       "      <td>5</td>\n",
       "      <td>Classy product</td>\n",
       "      <td>Best and amazing product.....phone looks so pr...</td>\n",
       "    </tr>\n",
       "    <tr>\n",
       "      <th>2</th>\n",
       "      <td>5</td>\n",
       "      <td>Brilliant</td>\n",
       "      <td>Excellent camera and display touching very nic...</td>\n",
       "    </tr>\n",
       "    <tr>\n",
       "      <th>3</th>\n",
       "      <td>5</td>\n",
       "      <td>Terrific</td>\n",
       "      <td>I got this beast today. And I must say the pic...</td>\n",
       "    </tr>\n",
       "    <tr>\n",
       "      <th>4</th>\n",
       "      <td>5</td>\n",
       "      <td>Perfect product!</td>\n",
       "      <td>Awesome purchase. Amazing phone with good batt...</td>\n",
       "    </tr>\n",
       "    <tr>\n",
       "      <th>...</th>\n",
       "      <td>...</td>\n",
       "      <td>...</td>\n",
       "      <td>...</td>\n",
       "    </tr>\n",
       "    <tr>\n",
       "      <th>95</th>\n",
       "      <td>5</td>\n",
       "      <td>Awesome</td>\n",
       "      <td>Always love the apple products, upgraded from ...</td>\n",
       "    </tr>\n",
       "    <tr>\n",
       "      <th>96</th>\n",
       "      <td>3</td>\n",
       "      <td>Does the job</td>\n",
       "      <td>phone is good but in display is 720p lcd in th...</td>\n",
       "    </tr>\n",
       "    <tr>\n",
       "      <th>97</th>\n",
       "      <td>5</td>\n",
       "      <td>Perfect product!</td>\n",
       "      <td>Value for money\\n5 star rating\\nExcellent came...</td>\n",
       "    </tr>\n",
       "    <tr>\n",
       "      <th>98</th>\n",
       "      <td>5</td>\n",
       "      <td>Highly recommended</td>\n",
       "      <td>Thanks Flipkart For this amazing deal! I had a...</td>\n",
       "    </tr>\n",
       "    <tr>\n",
       "      <th>99</th>\n",
       "      <td>5</td>\n",
       "      <td>Excellent</td>\n",
       "      <td>Its a fabulous mobile look awesome performance...</td>\n",
       "    </tr>\n",
       "  </tbody>\n",
       "</table>\n",
       "<p>100 rows × 3 columns</p>\n",
       "</div>"
      ],
      "text/plain": [
       "   Rating      Review summary  \\\n",
       "0       5   Terrific purchase   \n",
       "1       5      Classy product   \n",
       "2       5           Brilliant   \n",
       "3       5            Terrific   \n",
       "4       5    Perfect product!   \n",
       "..    ...                 ...   \n",
       "95      5             Awesome   \n",
       "96      3        Does the job   \n",
       "97      5    Perfect product!   \n",
       "98      5  Highly recommended   \n",
       "99      5           Excellent   \n",
       "\n",
       "                                          Full review  \n",
       "0   Its Very awesome product working and good came...  \n",
       "1   Best and amazing product.....phone looks so pr...  \n",
       "2   Excellent camera and display touching very nic...  \n",
       "3   I got this beast today. And I must say the pic...  \n",
       "4   Awesome purchase. Amazing phone with good batt...  \n",
       "..                                                ...  \n",
       "95  Always love the apple products, upgraded from ...  \n",
       "96  phone is good but in display is 720p lcd in th...  \n",
       "97  Value for money\\n5 star rating\\nExcellent came...  \n",
       "98  Thanks Flipkart For this amazing deal! I had a...  \n",
       "99  Its a fabulous mobile look awesome performance...  \n",
       "\n",
       "[100 rows x 3 columns]"
      ]
     },
     "execution_count": 75,
     "metadata": {},
     "output_type": "execute_result"
    }
   ],
   "source": [
    "#Creating DataFrame\n",
    "\n",
    "\n",
    "iphone11 = pd.DataFrame({'Rating': ratings,'  Review summary':short_review, 'Full review': full_review})\n",
    "iphone11"
   ]
  },
  {
   "cell_type": "markdown",
   "id": "61b153ca",
   "metadata": {},
   "source": [
    "# Q6: Scrape data for first 100 sneakers you find when you visit flipkart.com and search for “sneakers” in the search field."
   ]
  },
  {
   "cell_type": "markdown",
   "id": "02b443d8",
   "metadata": {},
   "source": [
    "You have to scrape 4 attributes of each sneaker:\n",
    "1. Brand\n",
    "2. Product Description\n",
    "3. Price\n",
    "4. Discount"
   ]
  },
  {
   "cell_type": "code",
   "execution_count": 76,
   "id": "a473946e",
   "metadata": {},
   "outputs": [],
   "source": [
    "driver=webdriver.Chrome(r\"C:\\chromedriver.exe\")"
   ]
  },
  {
   "cell_type": "code",
   "execution_count": 77,
   "id": "f233eb36",
   "metadata": {},
   "outputs": [],
   "source": [
    "driver.get('https://www.flipkart.com/')"
   ]
  },
  {
   "cell_type": "code",
   "execution_count": 78,
   "id": "42defc91",
   "metadata": {},
   "outputs": [],
   "source": [
    "login=driver.find_element_by_xpath(\"/html/body/div[2]/div/div/button\")\n",
    "login.click()"
   ]
  },
  {
   "cell_type": "code",
   "execution_count": 79,
   "id": "8d18fc7d",
   "metadata": {},
   "outputs": [],
   "source": [
    "product_name=driver.find_element_by_xpath(\"/html/body/div[1]/div/div[1]/div[1]/div[2]/div[2]/form/div/div/input\")\n",
    "product_name.send_keys('sneakers')"
   ]
  },
  {
   "cell_type": "code",
   "execution_count": 80,
   "id": "6615c353",
   "metadata": {},
   "outputs": [],
   "source": [
    "search_button=driver.find_element_by_xpath(\"/html/body/div[1]/div/div[1]/div[1]/div[2]/div[2]/form/div/button\")\n",
    "search_button.click()"
   ]
  },
  {
   "cell_type": "code",
   "execution_count": 81,
   "id": "0e12f0de",
   "metadata": {},
   "outputs": [],
   "source": [
    "brand=[]\n",
    "prod_des=[]\n",
    "price=[]\n",
    "discount=[]"
   ]
  },
  {
   "cell_type": "code",
   "execution_count": 82,
   "id": "a1ffbc86",
   "metadata": {},
   "outputs": [],
   "source": [
    "for i in range(0,3):\n",
    "    names_tags=driver.find_elements_by_xpath(\"//div[@class='_2WkVRV']\")\n",
    "    for i in names_tags:\n",
    "        names=i.text\n",
    "        brand.append(names)\n",
    "    next_button=driver.find_element_by_xpath(\"/html/body/div[1]/div/div[3]/div[1]/div[2]/div[12]/div/div/nav/a[2]\")\n",
    "    next_button.click()\n",
    "    time.sleep(5)"
   ]
  },
  {
   "cell_type": "code",
   "execution_count": 83,
   "id": "745eda75",
   "metadata": {},
   "outputs": [],
   "source": [
    "brand=brand[0:100]"
   ]
  },
  {
   "cell_type": "code",
   "execution_count": 84,
   "id": "1abb5d51",
   "metadata": {},
   "outputs": [],
   "source": [
    "for i in range(0,3):\n",
    "    descp_tags=driver.find_elements_by_xpath(\"//a[@class='IRpwTa']\")\n",
    "    for i in descp_tags:\n",
    "        descp=i.text\n",
    "        prod_des.append(descp)\n",
    "    next_button=driver.find_element_by_xpath(\"/html/body/div[1]/div/div[3]/div[1]/div[2]/div[12]/div/div/nav/a[2]\")\n",
    "    next_button.click()\n",
    "    time.sleep(5)"
   ]
  },
  {
   "cell_type": "code",
   "execution_count": 85,
   "id": "22c45b8c",
   "metadata": {},
   "outputs": [],
   "source": [
    "prod_des=prod_des[0:100]"
   ]
  },
  {
   "cell_type": "code",
   "execution_count": 86,
   "id": "883f94f8",
   "metadata": {},
   "outputs": [],
   "source": [
    "for i in range(0,3):\n",
    "    amt_tags=driver.find_elements_by_xpath(\"//div[@class='_30jeq3']\")\n",
    "    for i in amt_tags:\n",
    "        amount=i.text\n",
    "        price.append(amount)\n",
    "    next_button=driver.find_element_by_xpath(\"/html/body/div[1]/div/div[3]/div[1]/div[2]/div[12]/div/div/nav/a[2]\")\n",
    "    next_button.click()\n",
    "    time.sleep(5)"
   ]
  },
  {
   "cell_type": "code",
   "execution_count": 87,
   "id": "698317ec",
   "metadata": {},
   "outputs": [],
   "source": [
    "price=price[0:100]"
   ]
  },
  {
   "cell_type": "code",
   "execution_count": 88,
   "id": "5351a070",
   "metadata": {},
   "outputs": [],
   "source": [
    "for i in range(0,3):\n",
    "    free_tags=driver.find_elements_by_xpath(\"//div[@class='_3Ay6Sb']/span\")\n",
    "    for i in free_tags:\n",
    "        free=i.text\n",
    "        discount.append(free)\n",
    "    next_button=driver.find_element_by_xpath(\"/html/body/div[1]/div/div[3]/div[1]/div[2]/div[12]/div/div/nav/a[2]\")\n",
    "    next_button.click()\n",
    "    time.sleep(5)"
   ]
  },
  {
   "cell_type": "code",
   "execution_count": 89,
   "id": "596beb48",
   "metadata": {},
   "outputs": [],
   "source": [
    "discount=discount[0:100]"
   ]
  },
  {
   "cell_type": "code",
   "execution_count": 90,
   "id": "0d4f9d41",
   "metadata": {},
   "outputs": [
    {
     "name": "stdout",
     "output_type": "stream",
     "text": [
      "100 100 100 100\n"
     ]
    }
   ],
   "source": [
    "print(len(brand),len(prod_des),len(price),len(discount))"
   ]
  },
  {
   "cell_type": "code",
   "execution_count": 91,
   "id": "dc0f854e",
   "metadata": {},
   "outputs": [
    {
     "data": {
      "text/html": [
       "<div>\n",
       "<style scoped>\n",
       "    .dataframe tbody tr th:only-of-type {\n",
       "        vertical-align: middle;\n",
       "    }\n",
       "\n",
       "    .dataframe tbody tr th {\n",
       "        vertical-align: top;\n",
       "    }\n",
       "\n",
       "    .dataframe thead th {\n",
       "        text-align: right;\n",
       "    }\n",
       "</style>\n",
       "<table border=\"1\" class=\"dataframe\">\n",
       "  <thead>\n",
       "    <tr style=\"text-align: right;\">\n",
       "      <th></th>\n",
       "      <th>Brand</th>\n",
       "      <th>Product Description</th>\n",
       "      <th>Price</th>\n",
       "      <th>Discount</th>\n",
       "    </tr>\n",
       "  </thead>\n",
       "  <tbody>\n",
       "    <tr>\n",
       "      <th>0</th>\n",
       "      <td>ZF - ALFIYA</td>\n",
       "      <td>Sneakers For Men</td>\n",
       "      <td>₹439</td>\n",
       "      <td>65% off</td>\n",
       "    </tr>\n",
       "    <tr>\n",
       "      <th>1</th>\n",
       "      <td>DOC Martin</td>\n",
       "      <td>Sneaker Sneakers For Men</td>\n",
       "      <td>₹1,116</td>\n",
       "      <td>78% off</td>\n",
       "    </tr>\n",
       "    <tr>\n",
       "      <th>2</th>\n",
       "      <td>BRUTON</td>\n",
       "      <td>x KL Seattle Sneakers For Men</td>\n",
       "      <td>₹314</td>\n",
       "      <td>33% off</td>\n",
       "    </tr>\n",
       "    <tr>\n",
       "      <th>3</th>\n",
       "      <td>Magnolia</td>\n",
       "      <td>1259 smart black lace-ups sneakers for men Sne...</td>\n",
       "      <td>₹299</td>\n",
       "      <td>70% off</td>\n",
       "    </tr>\n",
       "    <tr>\n",
       "      <th>4</th>\n",
       "      <td>BIRDE</td>\n",
       "      <td>Sneakers For Men</td>\n",
       "      <td>₹399</td>\n",
       "      <td>57% off</td>\n",
       "    </tr>\n",
       "    <tr>\n",
       "      <th>...</th>\n",
       "      <td>...</td>\n",
       "      <td>...</td>\n",
       "      <td>...</td>\n",
       "      <td>...</td>\n",
       "    </tr>\n",
       "    <tr>\n",
       "      <th>95</th>\n",
       "      <td>RapidBox</td>\n",
       "      <td>516 Trendy Star Perfect Sneakers For Men</td>\n",
       "      <td>₹680</td>\n",
       "      <td>84% off</td>\n",
       "    </tr>\n",
       "    <tr>\n",
       "      <th>96</th>\n",
       "      <td>Kraasa</td>\n",
       "      <td>Kwik FIT casual sneaker shoes and partywear sh...</td>\n",
       "      <td>₹479</td>\n",
       "      <td>33% off</td>\n",
       "    </tr>\n",
       "    <tr>\n",
       "      <th>97</th>\n",
       "      <td>ASTEROID</td>\n",
       "      <td>CLARKIN 2.0 Sneakers For Men</td>\n",
       "      <td>₹499</td>\n",
       "      <td>57% off</td>\n",
       "    </tr>\n",
       "    <tr>\n",
       "      <th>98</th>\n",
       "      <td>Robbie jones</td>\n",
       "      <td>Sneakers For Men</td>\n",
       "      <td>₹499</td>\n",
       "      <td>60% off</td>\n",
       "    </tr>\n",
       "    <tr>\n",
       "      <th>99</th>\n",
       "      <td>Roadster</td>\n",
       "      <td>Sneakers For Men</td>\n",
       "      <td>₹1,299</td>\n",
       "      <td>35% off</td>\n",
       "    </tr>\n",
       "  </tbody>\n",
       "</table>\n",
       "<p>100 rows × 4 columns</p>\n",
       "</div>"
      ],
      "text/plain": [
       "           Brand                                Product Description   Price  \\\n",
       "0    ZF - ALFIYA                                   Sneakers For Men    ₹439   \n",
       "1     DOC Martin                           Sneaker Sneakers For Men  ₹1,116   \n",
       "2         BRUTON                      x KL Seattle Sneakers For Men    ₹314   \n",
       "3       Magnolia  1259 smart black lace-ups sneakers for men Sne...    ₹299   \n",
       "4          BIRDE                                   Sneakers For Men    ₹399   \n",
       "..           ...                                                ...     ...   \n",
       "95      RapidBox           516 Trendy Star Perfect Sneakers For Men    ₹680   \n",
       "96        Kraasa  Kwik FIT casual sneaker shoes and partywear sh...    ₹479   \n",
       "97      ASTEROID                       CLARKIN 2.0 Sneakers For Men    ₹499   \n",
       "98  Robbie jones                                   Sneakers For Men    ₹499   \n",
       "99      Roadster                                   Sneakers For Men  ₹1,299   \n",
       "\n",
       "   Discount  \n",
       "0   65% off  \n",
       "1   78% off  \n",
       "2   33% off  \n",
       "3   70% off  \n",
       "4   57% off  \n",
       "..      ...  \n",
       "95  84% off  \n",
       "96  33% off  \n",
       "97  57% off  \n",
       "98  60% off  \n",
       "99  35% off  \n",
       "\n",
       "[100 rows x 4 columns]"
      ]
     },
     "execution_count": 91,
     "metadata": {},
     "output_type": "execute_result"
    }
   ],
   "source": [
    "#Creating DataFrame\n",
    "\n",
    "\n",
    "sneakers = pd.DataFrame({'Brand': brand,' Product Description':prod_des, 'Price': price, 'Discount': discount})\n",
    "sneakers"
   ]
  },
  {
   "cell_type": "markdown",
   "id": "0c710254",
   "metadata": {},
   "source": [
    "# Q7: Scrape First 100 shoes data from https://www.myntra.com/shoes. The data should include “Brand” of the shoes , Short description, price of the shoe"
   ]
  },
  {
   "cell_type": "code",
   "execution_count": 92,
   "id": "593951ff",
   "metadata": {},
   "outputs": [],
   "source": [
    "driver=webdriver.Chrome(r\"C:\\chromedriver.exe\")"
   ]
  },
  {
   "cell_type": "code",
   "execution_count": 93,
   "id": "bccaf9db",
   "metadata": {},
   "outputs": [],
   "source": [
    "driver.get('https://www.myntra.com/shoes')"
   ]
  },
  {
   "cell_type": "code",
   "execution_count": 94,
   "id": "8a9720c6",
   "metadata": {},
   "outputs": [],
   "source": [
    "money_filter=driver.find_element_by_xpath(\"/html/body/div[2]/div/div[1]/main/div[3]/div[1]/section/div/div[5]/ul/li[2]/label/div\")\n",
    "money_filter.click()"
   ]
  },
  {
   "cell_type": "code",
   "execution_count": 95,
   "id": "48364ec5",
   "metadata": {},
   "outputs": [],
   "source": [
    "color_filter=driver.find_element_by_xpath(\"/html/body/div[2]/div/div[1]/main/div[3]/div[1]/section/div/div[6]/ul/li[1]/label/div\")\n",
    "color_filter.click()"
   ]
  },
  {
   "cell_type": "code",
   "execution_count": 96,
   "id": "46ab2289",
   "metadata": {},
   "outputs": [],
   "source": [
    "brand=[]\n",
    "prod_des=[]\n",
    "price=[]"
   ]
  },
  {
   "cell_type": "code",
   "execution_count": 97,
   "id": "057f4cb9",
   "metadata": {},
   "outputs": [],
   "source": [
    "for i in range(0,2):\n",
    "    names_tags=driver.find_elements_by_xpath(\"//h3[@class='product-brand']\")\n",
    "    for i in names_tags:\n",
    "        names=i.text\n",
    "        brand.append(names)\n",
    "    next_button=driver.find_element_by_xpath(\"/html/body/div[2]/div/div[1]/main/div[3]/div[2]/div/div[2]/section/div[2]/ul/li[3]/a\")\n",
    "    next_button.click()\n",
    "    time.sleep(5)"
   ]
  },
  {
   "cell_type": "code",
   "execution_count": 98,
   "id": "9b4754cf",
   "metadata": {},
   "outputs": [],
   "source": [
    "brand=brand[0:100]"
   ]
  },
  {
   "cell_type": "code",
   "execution_count": 99,
   "id": "db11078b",
   "metadata": {},
   "outputs": [],
   "source": [
    "for i in range(0,3):\n",
    "    descp_tags=driver.find_elements_by_xpath(\"//h4[@class='product-product']\")\n",
    "    for i in descp_tags:\n",
    "        descp=i.text\n",
    "        prod_des.append(descp)\n",
    "    next_button=driver.find_element_by_xpath(\"/html/body/div[2]/div/div[1]/main/div[3]/div[2]/div/div[2]/section/div[2]/ul/li[3]/a\")\n",
    "    next_button.click()\n",
    "    time.sleep(5)"
   ]
  },
  {
   "cell_type": "code",
   "execution_count": 100,
   "id": "6190fd32",
   "metadata": {},
   "outputs": [],
   "source": [
    "prod_des=prod_des[0:100]"
   ]
  },
  {
   "cell_type": "code",
   "execution_count": 101,
   "id": "a64f03d7",
   "metadata": {},
   "outputs": [],
   "source": [
    "for i in range(0,3):\n",
    "    amt_tags=driver.find_elements_by_xpath(\"//div[@class='product-price']/span\")\n",
    "    for i in amt_tags:\n",
    "        amount=i.text\n",
    "        price.append(amount)\n",
    "    next_button=driver.find_element_by_xpath(\"/html/body/div[2]/div/div[1]/main/div[3]/div[2]/div/div[2]/section/div[2]/ul/li[3]/a\")\n",
    "    next_button.click()\n",
    "    time.sleep(5)"
   ]
  },
  {
   "cell_type": "code",
   "execution_count": 102,
   "id": "0f1ef9ed",
   "metadata": {},
   "outputs": [],
   "source": [
    "price=price[0:100]"
   ]
  },
  {
   "cell_type": "code",
   "execution_count": 103,
   "id": "b27ef811",
   "metadata": {},
   "outputs": [
    {
     "name": "stdout",
     "output_type": "stream",
     "text": [
      "100 100 100\n"
     ]
    }
   ],
   "source": [
    "print(len(brand),len(prod_des),len(price))"
   ]
  },
  {
   "cell_type": "code",
   "execution_count": 104,
   "id": "c8fe14fb",
   "metadata": {},
   "outputs": [
    {
     "data": {
      "text/html": [
       "<div>\n",
       "<style scoped>\n",
       "    .dataframe tbody tr th:only-of-type {\n",
       "        vertical-align: middle;\n",
       "    }\n",
       "\n",
       "    .dataframe tbody tr th {\n",
       "        vertical-align: top;\n",
       "    }\n",
       "\n",
       "    .dataframe thead th {\n",
       "        text-align: right;\n",
       "    }\n",
       "</style>\n",
       "<table border=\"1\" class=\"dataframe\">\n",
       "  <thead>\n",
       "    <tr style=\"text-align: right;\">\n",
       "      <th></th>\n",
       "      <th>Brand</th>\n",
       "      <th>Product Description</th>\n",
       "      <th>Price</th>\n",
       "    </tr>\n",
       "  </thead>\n",
       "  <tbody>\n",
       "    <tr>\n",
       "      <th>0</th>\n",
       "      <td>Skechers</td>\n",
       "      <td>Men ENIGMA Running Shoes</td>\n",
       "      <td>Rs. 7499</td>\n",
       "    </tr>\n",
       "    <tr>\n",
       "      <th>1</th>\n",
       "      <td>Nike</td>\n",
       "      <td>Men Zoom C Pro HC Tennis Shoes</td>\n",
       "      <td>Rs. 8075Rs. 8500</td>\n",
       "    </tr>\n",
       "    <tr>\n",
       "      <th>2</th>\n",
       "      <td>Nike</td>\n",
       "      <td>Women Pegasus 39 Running Shoes</td>\n",
       "      <td>(5% OFF)</td>\n",
       "    </tr>\n",
       "    <tr>\n",
       "      <th>3</th>\n",
       "      <td>Puma</td>\n",
       "      <td>Men Running Shoes</td>\n",
       "      <td>Rs. 9810Rs. 10900</td>\n",
       "    </tr>\n",
       "    <tr>\n",
       "      <th>4</th>\n",
       "      <td>Nike</td>\n",
       "      <td>Women React Escape Running</td>\n",
       "      <td>(10% OFF)</td>\n",
       "    </tr>\n",
       "    <tr>\n",
       "      <th>...</th>\n",
       "      <td>...</td>\n",
       "      <td>...</td>\n",
       "      <td>...</td>\n",
       "    </tr>\n",
       "    <tr>\n",
       "      <th>95</th>\n",
       "      <td>DAVINCHI</td>\n",
       "      <td>Men Formal Slip-On Shoes</td>\n",
       "      <td>Rs. 6999</td>\n",
       "    </tr>\n",
       "    <tr>\n",
       "      <th>96</th>\n",
       "      <td>DAVINCHI</td>\n",
       "      <td>Men Solid Leather Formal Slip-On</td>\n",
       "      <td>Rs. 8999</td>\n",
       "    </tr>\n",
       "    <tr>\n",
       "      <th>97</th>\n",
       "      <td>Geox</td>\n",
       "      <td>Women Open Toe Flats</td>\n",
       "      <td>Rs. 6799</td>\n",
       "    </tr>\n",
       "    <tr>\n",
       "      <th>98</th>\n",
       "      <td>Geox</td>\n",
       "      <td>Women Ballerinas Flats</td>\n",
       "      <td>Rs. 6999</td>\n",
       "    </tr>\n",
       "    <tr>\n",
       "      <th>99</th>\n",
       "      <td>Geox</td>\n",
       "      <td>Women Solid Leather Ballerinas</td>\n",
       "      <td>Rs. 7199Rs. 11999</td>\n",
       "    </tr>\n",
       "  </tbody>\n",
       "</table>\n",
       "<p>100 rows × 3 columns</p>\n",
       "</div>"
      ],
      "text/plain": [
       "       Brand               Product Description              Price\n",
       "0   Skechers          Men ENIGMA Running Shoes           Rs. 7499\n",
       "1       Nike    Men Zoom C Pro HC Tennis Shoes   Rs. 8075Rs. 8500\n",
       "2       Nike    Women Pegasus 39 Running Shoes           (5% OFF)\n",
       "3       Puma                 Men Running Shoes  Rs. 9810Rs. 10900\n",
       "4       Nike        Women React Escape Running          (10% OFF)\n",
       "..       ...                               ...                ...\n",
       "95  DAVINCHI          Men Formal Slip-On Shoes           Rs. 6999\n",
       "96  DAVINCHI  Men Solid Leather Formal Slip-On           Rs. 8999\n",
       "97      Geox              Women Open Toe Flats           Rs. 6799\n",
       "98      Geox            Women Ballerinas Flats           Rs. 6999\n",
       "99      Geox    Women Solid Leather Ballerinas  Rs. 7199Rs. 11999\n",
       "\n",
       "[100 rows x 3 columns]"
      ]
     },
     "execution_count": 104,
     "metadata": {},
     "output_type": "execute_result"
    }
   ],
   "source": [
    "#Creating DataFrame\n",
    "\n",
    "\n",
    "myntra_shoes = pd.DataFrame({'Brand': brand,' Product Description':prod_des, 'Price': price})\n",
    "myntra_shoes"
   ]
  },
  {
   "cell_type": "markdown",
   "id": "13b1cd92",
   "metadata": {},
   "source": [
    "# Q8: Go to webpage https://www.amazon.in/ and scrape first 10 laptops data. "
   ]
  },
  {
   "cell_type": "code",
   "execution_count": 105,
   "id": "5adbd120",
   "metadata": {},
   "outputs": [],
   "source": [
    "driver=webdriver.Chrome(r\"C:\\chromedriver.exe\")"
   ]
  },
  {
   "cell_type": "code",
   "execution_count": 106,
   "id": "700a41f5",
   "metadata": {},
   "outputs": [],
   "source": [
    "driver.get('https://www.amazon.in/')"
   ]
  },
  {
   "cell_type": "code",
   "execution_count": 107,
   "id": "2870527f",
   "metadata": {},
   "outputs": [],
   "source": [
    "product_name=driver.find_element_by_xpath(\"/html/body/div[1]/header/div/div[1]/div[2]/div/form/div[2]/div[1]/input\")\n",
    "product_name.send_keys('Laptop')"
   ]
  },
  {
   "cell_type": "code",
   "execution_count": 108,
   "id": "02b68a05",
   "metadata": {},
   "outputs": [],
   "source": [
    "search_button=driver.find_element_by_xpath(\"/html/body/div[1]/header/div/div[1]/div[2]/div/form/div[3]/div/span/input\")\n",
    "search_button.click()"
   ]
  },
  {
   "cell_type": "code",
   "execution_count": 109,
   "id": "fdda4985",
   "metadata": {},
   "outputs": [],
   "source": [
    "cpu_type=driver.find_element_by_xpath(\"/html/body/div[1]/div[2]/div[1]/div[2]/div/div[3]/span/div[1]/div/div/div[6]/ul[4]/li[13]/span/a/div/label/i\")\n",
    "cpu_type.click()"
   ]
  },
  {
   "cell_type": "code",
   "execution_count": 110,
   "id": "a7a058b8",
   "metadata": {},
   "outputs": [],
   "source": [
    "title=[]\n",
    "rating=[]\n",
    "price=[]"
   ]
  },
  {
   "cell_type": "code",
   "execution_count": 111,
   "id": "09e1280f",
   "metadata": {},
   "outputs": [
    {
     "data": {
      "text/plain": [
       "[<selenium.webdriver.remote.webelement.WebElement (session=\"721f0d8bf9d10adf5443a727e0073b12\", element=\"3d3328e0-d08b-42e0-9d22-561eaeb1c75e\")>,\n",
       " <selenium.webdriver.remote.webelement.WebElement (session=\"721f0d8bf9d10adf5443a727e0073b12\", element=\"60e4126c-b679-46d7-8b24-9b22af5ffee1\")>,\n",
       " <selenium.webdriver.remote.webelement.WebElement (session=\"721f0d8bf9d10adf5443a727e0073b12\", element=\"d5984cd2-b672-49d7-b797-3a02d8e04a46\")>,\n",
       " <selenium.webdriver.remote.webelement.WebElement (session=\"721f0d8bf9d10adf5443a727e0073b12\", element=\"6cff69d2-5914-4679-a658-e54a0120b860\")>,\n",
       " <selenium.webdriver.remote.webelement.WebElement (session=\"721f0d8bf9d10adf5443a727e0073b12\", element=\"a7a8eb98-b5e4-434a-a4bc-72aacf919375\")>,\n",
       " <selenium.webdriver.remote.webelement.WebElement (session=\"721f0d8bf9d10adf5443a727e0073b12\", element=\"6e762b96-72f1-411d-8cf1-523e00c5433a\")>,\n",
       " <selenium.webdriver.remote.webelement.WebElement (session=\"721f0d8bf9d10adf5443a727e0073b12\", element=\"a3c3cf96-2130-4397-9a5e-23a4338195b2\")>,\n",
       " <selenium.webdriver.remote.webelement.WebElement (session=\"721f0d8bf9d10adf5443a727e0073b12\", element=\"3c1dd6a4-f371-46c7-a5a1-7c2cbc8d6f01\")>,\n",
       " <selenium.webdriver.remote.webelement.WebElement (session=\"721f0d8bf9d10adf5443a727e0073b12\", element=\"88c605ba-e93b-496d-af62-3c442b60b9d4\")>,\n",
       " <selenium.webdriver.remote.webelement.WebElement (session=\"721f0d8bf9d10adf5443a727e0073b12\", element=\"499fed2b-f02f-407d-b74c-1a48d0b7ed26\")>]"
      ]
     },
     "execution_count": 111,
     "metadata": {},
     "output_type": "execute_result"
    }
   ],
   "source": [
    "names_tags=driver.find_elements_by_xpath(\"//span[@class='a-size-medium a-color-base a-text-normal']\")\n",
    "names_tags[0:10]"
   ]
  },
  {
   "cell_type": "code",
   "execution_count": 112,
   "id": "f0d7a41c",
   "metadata": {},
   "outputs": [
    {
     "data": {
      "text/plain": [
       "['Lenovo IdeaPad 5 Pro 11th Gen Intel Core i7 14 inches QHD IPS Thin and Light Laptop (16GB/512GB SSD/Iris Xe Graphics/Windows 11/Office 2021/Backlit/300Nits/Storm Grey/1.41Kg), 82L3006YIN',\n",
       " 'LG Gram 16 Intel Evo 11th Gen i7 Thin & Light Laptop 2K+ IPS 16:10 Display [16 GB RAM/ 512 GB SSD/ Windows 11 / Iris Xe Graphics/ Thunderbolt 4, USC -C x 2 / 1.19 kg, Black/ 3Yr Warranty] 16Z90P',\n",
       " 'Lenovo IdeaPad 5 Pro 11th Gen Intel Core i7 14 inches QHD IPS Thin and Light Laptop (16GB/512GB SSD/Iris Xe Graphics/Windows 11/Office 2021/Backlit/300Nits/Storm Grey/1.41Kg), 82L3006YIN',\n",
       " 'ASUS VivoBook 14 (2021), 14-inch (35.56 cms) FHD, Intel Core i7-1065G7 10th Gen, Thin and Light Laptop (16GB/512GB SSD/Integrated Graphics/Office 2021/Windows 11/Silver/1.6 Kg), X415JA-EK701WS',\n",
       " 'Samsung Galaxy Book2 Intel 12th Gen core i7 39.6cm (15.6\") FHD LED Thin & Light Laptop (16 GB/512 GB SSD/Windows 11/MS Office/Backlit Keyboard/Fingerprint Reader/Silver/1.55Kg), NP750XED-KC2IN',\n",
       " 'LG Gram 17 Intel Evo 11th Gen i7 Thin & Light Laptop 2K+ IPS 16:10 Display [16 GB RAM/ 512 GB SSD/ Windows 11 / Iris Xe Graphics/ Thunderbolt 4/ USC -C x 2 / 1.35 kg, Black/ 3Yr Warranty] 17Z90P',\n",
       " 'ASUS TUF Gaming F15 (2021), 15.6\" (39.62 cms) FHD 144Hz, Intel Core i7-11600H 11th Gen, 4GB RTX 3050 Graphics, Gaming Laptop (16GB/512GB SSD/Windows 10/Office 2019/Gray/2.3 Kg), FX566HCB-HN299TS',\n",
       " 'Lenovo IdeaPad Flex 5 11th Gen Intel Core i7 14\" FHD 2-in-1 Convertible Laptop (16 GB/512GB SDD/Windows 11/MS Office 2021/Backlit Keyboard /3months Xbox Game Pass/Graphite Grey/1.5Kg), 82HS018XIN',\n",
       " 'HP Pavilion 15 12th Gen Intel Core i7 16GB SDRAM/1TB SSD 15.6 inch(39.6cm) FHD,IPS/Intel Iris Xe Graphics/B&O/Win 11/Alexa/Backlit KB/FPR/MSO 2021/1.75Kg, 15-EG2039TU, Natural Silver',\n",
       " 'HP Pavilion x360 11th Gen Intel Core i7 14 inch(35.6 cm) FHD Multitouch 2-in-1 Laptop(16GB RAM/512GB SSD/B&O/Win 11/FPR/Backlit KB/Intel Iris Xe Graphics/Pen/Alexa/MS Office/Silver/1.52Kg) 14-dy1047TU']"
      ]
     },
     "execution_count": 112,
     "metadata": {},
     "output_type": "execute_result"
    }
   ],
   "source": [
    "for i in names_tags:\n",
    "    titles=i.text\n",
    "    title.append(titles)\n",
    "title=title[0:10]\n",
    "title"
   ]
  },
  {
   "cell_type": "code",
   "execution_count": 113,
   "id": "0b3a1e1a",
   "metadata": {},
   "outputs": [
    {
     "data": {
      "text/plain": [
       "[<selenium.webdriver.remote.webelement.WebElement (session=\"721f0d8bf9d10adf5443a727e0073b12\", element=\"ac2b774d-885f-4463-8e38-ec1ffddf2299\")>,\n",
       " <selenium.webdriver.remote.webelement.WebElement (session=\"721f0d8bf9d10adf5443a727e0073b12\", element=\"a94c5138-5660-4c4e-8b8c-cb06e85ae124\")>,\n",
       " <selenium.webdriver.remote.webelement.WebElement (session=\"721f0d8bf9d10adf5443a727e0073b12\", element=\"369237d7-81f6-4bf4-88e3-0a033e0b2427\")>,\n",
       " <selenium.webdriver.remote.webelement.WebElement (session=\"721f0d8bf9d10adf5443a727e0073b12\", element=\"33343f5f-9670-4809-b14c-a6347f0b01c2\")>,\n",
       " <selenium.webdriver.remote.webelement.WebElement (session=\"721f0d8bf9d10adf5443a727e0073b12\", element=\"39d89b96-824e-4e79-9752-87f79117b398\")>,\n",
       " <selenium.webdriver.remote.webelement.WebElement (session=\"721f0d8bf9d10adf5443a727e0073b12\", element=\"9a422830-70e2-4e04-bd2d-f1abf120a5e7\")>,\n",
       " <selenium.webdriver.remote.webelement.WebElement (session=\"721f0d8bf9d10adf5443a727e0073b12\", element=\"af3a9be2-fe66-43cc-bd8f-dd3217e0329f\")>,\n",
       " <selenium.webdriver.remote.webelement.WebElement (session=\"721f0d8bf9d10adf5443a727e0073b12\", element=\"a47806a0-961e-4698-bd3a-af7ac5dcbc86\")>,\n",
       " <selenium.webdriver.remote.webelement.WebElement (session=\"721f0d8bf9d10adf5443a727e0073b12\", element=\"a8ca91b5-15e3-4be7-8241-890860d65168\")>,\n",
       " <selenium.webdriver.remote.webelement.WebElement (session=\"721f0d8bf9d10adf5443a727e0073b12\", element=\"62287f29-bc9b-4b80-a0bb-caad2444e3f1\")>]"
      ]
     },
     "execution_count": 113,
     "metadata": {},
     "output_type": "execute_result"
    }
   ],
   "source": [
    "rat_tags=driver.find_elements_by_xpath(\"//div[@class='a-row a-size-small']\")\n",
    "rat_tags[0:10]"
   ]
  },
  {
   "cell_type": "code",
   "execution_count": 114,
   "id": "e5b5c682",
   "metadata": {},
   "outputs": [
    {
     "data": {
      "text/plain": [
       "['7', '136', '7', '121', '11', '163', '16', '12', '3', '6']"
      ]
     },
     "execution_count": 114,
     "metadata": {},
     "output_type": "execute_result"
    }
   ],
   "source": [
    "for i in rat_tags:\n",
    "    rate=i.text\n",
    "    rating.append(rate)\n",
    "rating=rating[0:10]\n",
    "rating"
   ]
  },
  {
   "cell_type": "code",
   "execution_count": 115,
   "id": "88352ae6",
   "metadata": {},
   "outputs": [
    {
     "data": {
      "text/plain": [
       "[<selenium.webdriver.remote.webelement.WebElement (session=\"721f0d8bf9d10adf5443a727e0073b12\", element=\"59eaa9b0-8653-45df-b1e4-58e9774ad852\")>,\n",
       " <selenium.webdriver.remote.webelement.WebElement (session=\"721f0d8bf9d10adf5443a727e0073b12\", element=\"62123736-e8d2-4c43-8252-0c3c0216701a\")>,\n",
       " <selenium.webdriver.remote.webelement.WebElement (session=\"721f0d8bf9d10adf5443a727e0073b12\", element=\"aa3e0115-9223-4004-a593-2bb79f5fd4a1\")>,\n",
       " <selenium.webdriver.remote.webelement.WebElement (session=\"721f0d8bf9d10adf5443a727e0073b12\", element=\"92509952-7f55-4ea1-a295-0042a90b2455\")>,\n",
       " <selenium.webdriver.remote.webelement.WebElement (session=\"721f0d8bf9d10adf5443a727e0073b12\", element=\"c3f5e32f-d977-4e36-b2ed-654bb7b3e193\")>,\n",
       " <selenium.webdriver.remote.webelement.WebElement (session=\"721f0d8bf9d10adf5443a727e0073b12\", element=\"9e1365a6-8a1b-4772-b28f-2c7a2aef9cc6\")>,\n",
       " <selenium.webdriver.remote.webelement.WebElement (session=\"721f0d8bf9d10adf5443a727e0073b12\", element=\"1c2f319e-2f0d-4b1a-a3d0-20415a354e55\")>,\n",
       " <selenium.webdriver.remote.webelement.WebElement (session=\"721f0d8bf9d10adf5443a727e0073b12\", element=\"c2053ea6-0e22-4957-a947-817c7510ed94\")>,\n",
       " <selenium.webdriver.remote.webelement.WebElement (session=\"721f0d8bf9d10adf5443a727e0073b12\", element=\"c4b1e77e-fc49-4e73-b8d3-4a7b1767d1f8\")>,\n",
       " <selenium.webdriver.remote.webelement.WebElement (session=\"721f0d8bf9d10adf5443a727e0073b12\", element=\"bdb7f65d-56b9-428a-9a19-b6ef68c0c4e9\")>]"
      ]
     },
     "execution_count": 115,
     "metadata": {},
     "output_type": "execute_result"
    }
   ],
   "source": [
    "amount_tags=driver.find_elements_by_xpath(\"//span[@class='a-price-whole']\")\n",
    "amount_tags[0:10]"
   ]
  },
  {
   "cell_type": "code",
   "execution_count": 116,
   "id": "6b3bdf5c",
   "metadata": {},
   "outputs": [
    {
     "data": {
      "text/plain": [
       "['75,309',\n",
       " '86,490',\n",
       " '75,309',\n",
       " '57,490',\n",
       " '79,990',\n",
       " '88,490',\n",
       " '83,990',\n",
       " '81,490',\n",
       " '89,791',\n",
       " '84,490']"
      ]
     },
     "execution_count": 116,
     "metadata": {},
     "output_type": "execute_result"
    }
   ],
   "source": [
    "for i in amount_tags:\n",
    "    amt=i.text\n",
    "    price.append(amt)\n",
    "price=price[0:10]\n",
    "price"
   ]
  },
  {
   "cell_type": "code",
   "execution_count": 117,
   "id": "c5b2a20a",
   "metadata": {},
   "outputs": [
    {
     "name": "stdout",
     "output_type": "stream",
     "text": [
      "10 10 10 10\n"
     ]
    }
   ],
   "source": [
    "print(len(title),len(rating),len(price),len(price))"
   ]
  },
  {
   "cell_type": "code",
   "execution_count": 118,
   "id": "1a2693e9",
   "metadata": {},
   "outputs": [
    {
     "data": {
      "text/html": [
       "<div>\n",
       "<style scoped>\n",
       "    .dataframe tbody tr th:only-of-type {\n",
       "        vertical-align: middle;\n",
       "    }\n",
       "\n",
       "    .dataframe tbody tr th {\n",
       "        vertical-align: top;\n",
       "    }\n",
       "\n",
       "    .dataframe thead th {\n",
       "        text-align: right;\n",
       "    }\n",
       "</style>\n",
       "<table border=\"1\" class=\"dataframe\">\n",
       "  <thead>\n",
       "    <tr style=\"text-align: right;\">\n",
       "      <th></th>\n",
       "      <th>Title</th>\n",
       "      <th>Ratings</th>\n",
       "      <th>Price</th>\n",
       "    </tr>\n",
       "  </thead>\n",
       "  <tbody>\n",
       "    <tr>\n",
       "      <th>0</th>\n",
       "      <td>Lenovo IdeaPad 5 Pro 11th Gen Intel Core i7 14...</td>\n",
       "      <td>7</td>\n",
       "      <td>75,309</td>\n",
       "    </tr>\n",
       "    <tr>\n",
       "      <th>1</th>\n",
       "      <td>LG Gram 16 Intel Evo 11th Gen i7 Thin &amp; Light ...</td>\n",
       "      <td>136</td>\n",
       "      <td>86,490</td>\n",
       "    </tr>\n",
       "    <tr>\n",
       "      <th>2</th>\n",
       "      <td>Lenovo IdeaPad 5 Pro 11th Gen Intel Core i7 14...</td>\n",
       "      <td>7</td>\n",
       "      <td>75,309</td>\n",
       "    </tr>\n",
       "    <tr>\n",
       "      <th>3</th>\n",
       "      <td>ASUS VivoBook 14 (2021), 14-inch (35.56 cms) F...</td>\n",
       "      <td>121</td>\n",
       "      <td>57,490</td>\n",
       "    </tr>\n",
       "    <tr>\n",
       "      <th>4</th>\n",
       "      <td>Samsung Galaxy Book2 Intel 12th Gen core i7 39...</td>\n",
       "      <td>11</td>\n",
       "      <td>79,990</td>\n",
       "    </tr>\n",
       "    <tr>\n",
       "      <th>5</th>\n",
       "      <td>LG Gram 17 Intel Evo 11th Gen i7 Thin &amp; Light ...</td>\n",
       "      <td>163</td>\n",
       "      <td>88,490</td>\n",
       "    </tr>\n",
       "    <tr>\n",
       "      <th>6</th>\n",
       "      <td>ASUS TUF Gaming F15 (2021), 15.6\" (39.62 cms) ...</td>\n",
       "      <td>16</td>\n",
       "      <td>83,990</td>\n",
       "    </tr>\n",
       "    <tr>\n",
       "      <th>7</th>\n",
       "      <td>Lenovo IdeaPad Flex 5 11th Gen Intel Core i7 1...</td>\n",
       "      <td>12</td>\n",
       "      <td>81,490</td>\n",
       "    </tr>\n",
       "    <tr>\n",
       "      <th>8</th>\n",
       "      <td>HP Pavilion 15 12th Gen Intel Core i7 16GB SDR...</td>\n",
       "      <td>3</td>\n",
       "      <td>89,791</td>\n",
       "    </tr>\n",
       "    <tr>\n",
       "      <th>9</th>\n",
       "      <td>HP Pavilion x360 11th Gen Intel Core i7 14 inc...</td>\n",
       "      <td>6</td>\n",
       "      <td>84,490</td>\n",
       "    </tr>\n",
       "  </tbody>\n",
       "</table>\n",
       "</div>"
      ],
      "text/plain": [
       "                                               Title Ratings   Price\n",
       "0  Lenovo IdeaPad 5 Pro 11th Gen Intel Core i7 14...       7  75,309\n",
       "1  LG Gram 16 Intel Evo 11th Gen i7 Thin & Light ...     136  86,490\n",
       "2  Lenovo IdeaPad 5 Pro 11th Gen Intel Core i7 14...       7  75,309\n",
       "3  ASUS VivoBook 14 (2021), 14-inch (35.56 cms) F...     121  57,490\n",
       "4  Samsung Galaxy Book2 Intel 12th Gen core i7 39...      11  79,990\n",
       "5  LG Gram 17 Intel Evo 11th Gen i7 Thin & Light ...     163  88,490\n",
       "6  ASUS TUF Gaming F15 (2021), 15.6\" (39.62 cms) ...      16  83,990\n",
       "7  Lenovo IdeaPad Flex 5 11th Gen Intel Core i7 1...      12  81,490\n",
       "8  HP Pavilion 15 12th Gen Intel Core i7 16GB SDR...       3  89,791\n",
       "9  HP Pavilion x360 11th Gen Intel Core i7 14 inc...       6  84,490"
      ]
     },
     "execution_count": 118,
     "metadata": {},
     "output_type": "execute_result"
    }
   ],
   "source": [
    "#Creating DataFrame\n",
    "\n",
    "\n",
    "i7_laptops = pd.DataFrame({'Title': title,'Ratings':rating, 'Price': price})\n",
    "i7_laptops"
   ]
  },
  {
   "cell_type": "markdown",
   "id": "d3b89cbd",
   "metadata": {},
   "source": [
    "# Q9: Write a python program to scrape data for first 10 job results for Data Scientist Designation in Noida location. You have to scrape company name, No. of days ago when job was posted, Rating of the company. "
   ]
  },
  {
   "cell_type": "code",
   "execution_count": 2,
   "id": "ce047e9f",
   "metadata": {},
   "outputs": [],
   "source": [
    "driver=webdriver.Chrome(r\"C:\\chromedriver.exe\")"
   ]
  },
  {
   "cell_type": "code",
   "execution_count": 3,
   "id": "860d288d",
   "metadata": {},
   "outputs": [],
   "source": [
    "driver.get('https://www.ambitionbox.com/')"
   ]
  },
  {
   "cell_type": "code",
   "execution_count": 4,
   "id": "731a1029",
   "metadata": {},
   "outputs": [],
   "source": [
    "job_button=driver.find_element_by_xpath(\"/html/body/div[1]/nav/nav/a[6]\")\n",
    "job_button.click()"
   ]
  },
  {
   "cell_type": "code",
   "execution_count": 5,
   "id": "4252796f",
   "metadata": {},
   "outputs": [],
   "source": [
    "designation_name=driver.find_element_by_xpath(\"/html/body/div/div/div/div[2]/div[1]/div[1]/div/div/div/div/span/input\")\n",
    "designation_name.send_keys('Data Scientist')"
   ]
  },
  {
   "cell_type": "code",
   "execution_count": 6,
   "id": "04fd5582",
   "metadata": {},
   "outputs": [],
   "source": [
    "search_button=driver.find_element_by_xpath(\"/html/body/div/div/div/div[2]/div[1]/div[1]/div/div/div/button\")\n",
    "search_button.click()"
   ]
  },
  {
   "cell_type": "code",
   "execution_count": 7,
   "id": "fab1d5dd",
   "metadata": {},
   "outputs": [],
   "source": [
    "loc_dropdown_button=driver.find_element_by_xpath(\"/html/body/div/div/div/div[2]/div[1]/div[2]/div[1]/div/div/div/div[2]/div[1]/i\")\n",
    "loc_dropdown_button.click()"
   ]
  },
  {
   "cell_type": "code",
   "execution_count": 8,
   "id": "387851d6",
   "metadata": {},
   "outputs": [],
   "source": [
    "loc_noida_button=driver.find_element_by_xpath(\"/html/body/div/div/div/div[2]/div[1]/div[2]/div[1]/div/div/div/div[2]/div[2]/div/div[3]/div[1]/div[5]/div/label\")\n",
    "loc_noida_button.click()"
   ]
  },
  {
   "cell_type": "code",
   "execution_count": 9,
   "id": "57b231a6",
   "metadata": {},
   "outputs": [],
   "source": [
    "company_name=[]\n",
    "time=[]\n",
    "ratings=[]"
   ]
  },
  {
   "cell_type": "code",
   "execution_count": 12,
   "id": "cd9654fd",
   "metadata": {},
   "outputs": [
    {
     "data": {
      "text/plain": [
       "[<selenium.webdriver.remote.webelement.WebElement (session=\"55faa280fa4ee93eb0a651746d424bf3\", element=\"bc4993bd-1c4a-401b-b63c-7512ab1d67b2\")>,\n",
       " <selenium.webdriver.remote.webelement.WebElement (session=\"55faa280fa4ee93eb0a651746d424bf3\", element=\"4455d38d-48d9-4a1c-9684-fa193b7f1216\")>,\n",
       " <selenium.webdriver.remote.webelement.WebElement (session=\"55faa280fa4ee93eb0a651746d424bf3\", element=\"c5ba7532-630b-4e3e-a16b-c86a8e28868d\")>,\n",
       " <selenium.webdriver.remote.webelement.WebElement (session=\"55faa280fa4ee93eb0a651746d424bf3\", element=\"dec3bda9-9f80-48a4-b267-e89004b758b0\")>,\n",
       " <selenium.webdriver.remote.webelement.WebElement (session=\"55faa280fa4ee93eb0a651746d424bf3\", element=\"ef1382d7-58e0-43d5-868e-4a47542c4b69\")>,\n",
       " <selenium.webdriver.remote.webelement.WebElement (session=\"55faa280fa4ee93eb0a651746d424bf3\", element=\"6346b7cd-d78b-4eca-8217-39b61541cb16\")>,\n",
       " <selenium.webdriver.remote.webelement.WebElement (session=\"55faa280fa4ee93eb0a651746d424bf3\", element=\"f9c02af8-0323-4b5e-a93a-3e233013f23c\")>,\n",
       " <selenium.webdriver.remote.webelement.WebElement (session=\"55faa280fa4ee93eb0a651746d424bf3\", element=\"799bcc87-21da-46ce-a11e-db1c92f7c385\")>,\n",
       " <selenium.webdriver.remote.webelement.WebElement (session=\"55faa280fa4ee93eb0a651746d424bf3\", element=\"bbf52047-a3a9-4d58-8cc3-468318875b3f\")>,\n",
       " <selenium.webdriver.remote.webelement.WebElement (session=\"55faa280fa4ee93eb0a651746d424bf3\", element=\"7f29bc83-d9f1-4192-aad3-c46ae204ceab\")>]"
      ]
     },
     "execution_count": 12,
     "metadata": {},
     "output_type": "execute_result"
    }
   ],
   "source": [
    "names_tag=driver.find_elements_by_xpath(\"//p[@class='company body-medium']\")\n",
    "names_tag[0:10]"
   ]
  },
  {
   "cell_type": "code",
   "execution_count": 19,
   "id": "8d2365b1",
   "metadata": {},
   "outputs": [
    {
     "data": {
      "text/plain": [
       "['Sanofi India Ltd',\n",
       " 'GENPACT India Private Limited',\n",
       " 'GENPACT India Private Limited',\n",
       " 'Wipro Limited',\n",
       " 'Optum Global Solutions (India) Private Limited',\n",
       " 'Tata Consultancy Services Ltd.',\n",
       " 'Tata Consultancy Services Ltd.',\n",
       " 'Thomson Reuters India Pvt Ltd',\n",
       " 'MetLife Global Operations Support Center Pvt. Ltd.',\n",
       " 'Teamlease Servcies limited']"
      ]
     },
     "execution_count": 19,
     "metadata": {},
     "output_type": "execute_result"
    }
   ],
   "source": [
    "for i in names_tag:\n",
    "    employers=i.text\n",
    "    company_name.append(employers)\n",
    "company_name"
   ]
  },
  {
   "cell_type": "code",
   "execution_count": 20,
   "id": "93200cb8",
   "metadata": {},
   "outputs": [
    {
     "data": {
      "text/plain": [
       "[<selenium.webdriver.remote.webelement.WebElement (session=\"55faa280fa4ee93eb0a651746d424bf3\", element=\"f8e94621-5470-42e0-b177-df45e85a4975\")>,\n",
       " <selenium.webdriver.remote.webelement.WebElement (session=\"55faa280fa4ee93eb0a651746d424bf3\", element=\"482d992f-0ca4-4d99-93be-a674cb2d2cd9\")>,\n",
       " <selenium.webdriver.remote.webelement.WebElement (session=\"55faa280fa4ee93eb0a651746d424bf3\", element=\"ea9d1157-41eb-4337-8af3-955afc0e784b\")>,\n",
       " <selenium.webdriver.remote.webelement.WebElement (session=\"55faa280fa4ee93eb0a651746d424bf3\", element=\"6d29f85e-1695-432f-829d-85ac77445e09\")>,\n",
       " <selenium.webdriver.remote.webelement.WebElement (session=\"55faa280fa4ee93eb0a651746d424bf3\", element=\"a0f91c67-e5ed-46c0-acad-fcb67798dfa7\")>,\n",
       " <selenium.webdriver.remote.webelement.WebElement (session=\"55faa280fa4ee93eb0a651746d424bf3\", element=\"2d03f45f-fc73-424a-a582-fa09528406fa\")>,\n",
       " <selenium.webdriver.remote.webelement.WebElement (session=\"55faa280fa4ee93eb0a651746d424bf3\", element=\"e71f8204-9a10-4261-9b49-b8fb1d5b2238\")>,\n",
       " <selenium.webdriver.remote.webelement.WebElement (session=\"55faa280fa4ee93eb0a651746d424bf3\", element=\"260cbd5f-64c2-4ae3-8621-e8756f94cd0b\")>,\n",
       " <selenium.webdriver.remote.webelement.WebElement (session=\"55faa280fa4ee93eb0a651746d424bf3\", element=\"38cc6c5e-ef27-4312-852c-0f5f4675a95b\")>,\n",
       " <selenium.webdriver.remote.webelement.WebElement (session=\"55faa280fa4ee93eb0a651746d424bf3\", element=\"380b79fa-8888-498d-9d2d-8997277b1a3a\")>]"
      ]
     },
     "execution_count": 20,
     "metadata": {},
     "output_type": "execute_result"
    }
   ],
   "source": [
    "days_ago_tags=driver.find_elements_by_xpath(\"//span[@class='body-small-l']\")\n",
    "days_ago_tags[0:10]"
   ]
  },
  {
   "cell_type": "code",
   "execution_count": 21,
   "id": "666e2e89",
   "metadata": {},
   "outputs": [
    {
     "data": {
      "text/plain": [
       "['11d ago',\n",
       " '8d ago',\n",
       " '9d ago',\n",
       " '8d ago',\n",
       " '16d ago',\n",
       " '11d ago',\n",
       " '12d ago',\n",
       " '25d ago',\n",
       " '25d ago',\n",
       " '29d ago']"
      ]
     },
     "execution_count": 21,
     "metadata": {},
     "output_type": "execute_result"
    }
   ],
   "source": [
    "for i in days_ago_tags:\n",
    "    clock=i.text\n",
    "    time.append(clock)\n",
    "time=time[0:20:2]\n",
    "time"
   ]
  },
  {
   "cell_type": "code",
   "execution_count": 22,
   "id": "5f73e599",
   "metadata": {},
   "outputs": [
    {
     "data": {
      "text/plain": [
       "[<selenium.webdriver.remote.webelement.WebElement (session=\"55faa280fa4ee93eb0a651746d424bf3\", element=\"f5dc42ee-575a-4ecd-97de-724424664609\")>,\n",
       " <selenium.webdriver.remote.webelement.WebElement (session=\"55faa280fa4ee93eb0a651746d424bf3\", element=\"e6093bd5-9072-4381-bf72-1156ab6d68e8\")>,\n",
       " <selenium.webdriver.remote.webelement.WebElement (session=\"55faa280fa4ee93eb0a651746d424bf3\", element=\"7afa9b29-d058-4c91-bd02-1194877c68c9\")>,\n",
       " <selenium.webdriver.remote.webelement.WebElement (session=\"55faa280fa4ee93eb0a651746d424bf3\", element=\"3a270b4b-a05d-4d3d-b015-783210d0ccd5\")>,\n",
       " <selenium.webdriver.remote.webelement.WebElement (session=\"55faa280fa4ee93eb0a651746d424bf3\", element=\"a817aadb-5541-4e08-8838-d9892032fa34\")>,\n",
       " <selenium.webdriver.remote.webelement.WebElement (session=\"55faa280fa4ee93eb0a651746d424bf3\", element=\"c9d6c466-118d-4dcf-86e1-41a04ac070f0\")>,\n",
       " <selenium.webdriver.remote.webelement.WebElement (session=\"55faa280fa4ee93eb0a651746d424bf3\", element=\"2497b678-da1d-4e67-aefb-7d5de6590eda\")>,\n",
       " <selenium.webdriver.remote.webelement.WebElement (session=\"55faa280fa4ee93eb0a651746d424bf3\", element=\"df635ac7-3c7d-47c8-b2c8-418fb64c87f0\")>,\n",
       " <selenium.webdriver.remote.webelement.WebElement (session=\"55faa280fa4ee93eb0a651746d424bf3\", element=\"cc79456b-d5b9-432e-ac59-2ddf412fd9bd\")>,\n",
       " <selenium.webdriver.remote.webelement.WebElement (session=\"55faa280fa4ee93eb0a651746d424bf3\", element=\"66227975-d294-4923-ae6c-d9b8303a5167\")>]"
      ]
     },
     "execution_count": 22,
     "metadata": {},
     "output_type": "execute_result"
    }
   ],
   "source": [
    "rat_tags=driver.find_elements_by_xpath(\"//span[@class='body-small']\")\n",
    "rat_tags[0:10]"
   ]
  },
  {
   "cell_type": "code",
   "execution_count": 23,
   "id": "2be7b70c",
   "metadata": {},
   "outputs": [
    {
     "data": {
      "text/plain": [
       "['4.5', '4.0', '4.0', '3.9', '4.2', '3.9', '3.9', '4.4', '4.4', '4.1']"
      ]
     },
     "execution_count": 23,
     "metadata": {},
     "output_type": "execute_result"
    }
   ],
   "source": [
    "for i in rat_tags:\n",
    "    rate=i.text\n",
    "    ratings.append(rate)\n",
    "ratings=ratings[0:10]\n",
    "ratings"
   ]
  },
  {
   "cell_type": "code",
   "execution_count": 24,
   "id": "8ce426f2",
   "metadata": {},
   "outputs": [
    {
     "name": "stdout",
     "output_type": "stream",
     "text": [
      "10 10 10\n"
     ]
    }
   ],
   "source": [
    "print(len(company_name),len(time),len(ratings))"
   ]
  },
  {
   "cell_type": "code",
   "execution_count": 25,
   "id": "84ef9fee",
   "metadata": {},
   "outputs": [
    {
     "data": {
      "text/html": [
       "<div>\n",
       "<style scoped>\n",
       "    .dataframe tbody tr th:only-of-type {\n",
       "        vertical-align: middle;\n",
       "    }\n",
       "\n",
       "    .dataframe tbody tr th {\n",
       "        vertical-align: top;\n",
       "    }\n",
       "\n",
       "    .dataframe thead th {\n",
       "        text-align: right;\n",
       "    }\n",
       "</style>\n",
       "<table border=\"1\" class=\"dataframe\">\n",
       "  <thead>\n",
       "    <tr style=\"text-align: right;\">\n",
       "      <th></th>\n",
       "      <th>Company Name</th>\n",
       "      <th>No. of Days Ago</th>\n",
       "      <th>Ratings of the company</th>\n",
       "    </tr>\n",
       "  </thead>\n",
       "  <tbody>\n",
       "    <tr>\n",
       "      <th>0</th>\n",
       "      <td>Sanofi India Ltd</td>\n",
       "      <td>11d ago</td>\n",
       "      <td>4.5</td>\n",
       "    </tr>\n",
       "    <tr>\n",
       "      <th>1</th>\n",
       "      <td>GENPACT India Private Limited</td>\n",
       "      <td>8d ago</td>\n",
       "      <td>4.0</td>\n",
       "    </tr>\n",
       "    <tr>\n",
       "      <th>2</th>\n",
       "      <td>GENPACT India Private Limited</td>\n",
       "      <td>9d ago</td>\n",
       "      <td>4.0</td>\n",
       "    </tr>\n",
       "    <tr>\n",
       "      <th>3</th>\n",
       "      <td>Wipro Limited</td>\n",
       "      <td>8d ago</td>\n",
       "      <td>3.9</td>\n",
       "    </tr>\n",
       "    <tr>\n",
       "      <th>4</th>\n",
       "      <td>Optum Global Solutions (India) Private Limited</td>\n",
       "      <td>16d ago</td>\n",
       "      <td>4.2</td>\n",
       "    </tr>\n",
       "    <tr>\n",
       "      <th>5</th>\n",
       "      <td>Tata Consultancy Services Ltd.</td>\n",
       "      <td>11d ago</td>\n",
       "      <td>3.9</td>\n",
       "    </tr>\n",
       "    <tr>\n",
       "      <th>6</th>\n",
       "      <td>Tata Consultancy Services Ltd.</td>\n",
       "      <td>12d ago</td>\n",
       "      <td>3.9</td>\n",
       "    </tr>\n",
       "    <tr>\n",
       "      <th>7</th>\n",
       "      <td>Thomson Reuters India Pvt Ltd</td>\n",
       "      <td>25d ago</td>\n",
       "      <td>4.4</td>\n",
       "    </tr>\n",
       "    <tr>\n",
       "      <th>8</th>\n",
       "      <td>MetLife Global Operations Support Center Pvt. ...</td>\n",
       "      <td>25d ago</td>\n",
       "      <td>4.4</td>\n",
       "    </tr>\n",
       "    <tr>\n",
       "      <th>9</th>\n",
       "      <td>Teamlease Servcies limited</td>\n",
       "      <td>29d ago</td>\n",
       "      <td>4.1</td>\n",
       "    </tr>\n",
       "  </tbody>\n",
       "</table>\n",
       "</div>"
      ],
      "text/plain": [
       "                                        Company Name No. of Days Ago  \\\n",
       "0                                   Sanofi India Ltd         11d ago   \n",
       "1                      GENPACT India Private Limited          8d ago   \n",
       "2                      GENPACT India Private Limited          9d ago   \n",
       "3                                      Wipro Limited          8d ago   \n",
       "4     Optum Global Solutions (India) Private Limited         16d ago   \n",
       "5                     Tata Consultancy Services Ltd.         11d ago   \n",
       "6                     Tata Consultancy Services Ltd.         12d ago   \n",
       "7                      Thomson Reuters India Pvt Ltd         25d ago   \n",
       "8  MetLife Global Operations Support Center Pvt. ...         25d ago   \n",
       "9                         Teamlease Servcies limited         29d ago   \n",
       "\n",
       "  Ratings of the company  \n",
       "0                    4.5  \n",
       "1                    4.0  \n",
       "2                    4.0  \n",
       "3                    3.9  \n",
       "4                    4.2  \n",
       "5                    3.9  \n",
       "6                    3.9  \n",
       "7                    4.4  \n",
       "8                    4.4  \n",
       "9                    4.1  "
      ]
     },
     "execution_count": 25,
     "metadata": {},
     "output_type": "execute_result"
    }
   ],
   "source": [
    "#Creating DataFrame\n",
    "\n",
    "\n",
    "ambition_box = pd.DataFrame({'Company Name': company_name,'No. of Days Ago':time, 'Ratings of the company': ratings})\n",
    "ambition_box"
   ]
  },
  {
   "cell_type": "markdown",
   "id": "a10c3b92",
   "metadata": {},
   "source": [
    "# Q10: Write a python program to scrape the salary data for Data Scientist designation."
   ]
  },
  {
   "cell_type": "markdown",
   "id": "8e251c36",
   "metadata": {},
   "source": [
    "You have to scrape Company name, Number of salaries, Average salary, Minsalary, Max Salary."
   ]
  },
  {
   "cell_type": "code",
   "execution_count": 58,
   "id": "cf5a94ad",
   "metadata": {},
   "outputs": [],
   "source": [
    "driver=webdriver.Chrome(r\"C:\\chromedriver.exe\")"
   ]
  },
  {
   "cell_type": "code",
   "execution_count": 59,
   "id": "1188637c",
   "metadata": {},
   "outputs": [],
   "source": [
    "driver.get('https://www.ambitionbox.com/')"
   ]
  },
  {
   "cell_type": "code",
   "execution_count": 60,
   "id": "19ddd5ec",
   "metadata": {},
   "outputs": [],
   "source": [
    "salaries_button=driver.find_element_by_xpath(\"/html/body/div[1]/nav/nav/a[4]\")\n",
    "salaries_button.click()"
   ]
  },
  {
   "cell_type": "code",
   "execution_count": 61,
   "id": "b0b5d3d0",
   "metadata": {},
   "outputs": [],
   "source": [
    "designation=driver.find_element_by_xpath(\"/html/body/div/div/div/main/section[1]/div[2]/div[1]/span/input\")\n",
    "designation.send_keys('Data Scientist')"
   ]
  },
  {
   "cell_type": "code",
   "execution_count": 62,
   "id": "a008a971",
   "metadata": {},
   "outputs": [],
   "source": [
    "ds_button=driver.find_element_by_xpath(\"/html/body/div/div/div/main/section[1]/div[2]/div[1]/span/div/div/div[1]\")\n",
    "ds_button.click()"
   ]
  },
  {
   "cell_type": "code",
   "execution_count": 63,
   "id": "fdd4b94e",
   "metadata": {},
   "outputs": [],
   "source": [
    "company_name=[]\n",
    "total_salary_record=[]\n",
    "average_salary=[]\n",
    "minimum_salary=[]\n",
    "maximum_salary=[]\n",
    "experience_required=[]"
   ]
  },
  {
   "cell_type": "code",
   "execution_count": 64,
   "id": "02d465c7",
   "metadata": {},
   "outputs": [
    {
     "data": {
      "text/plain": [
       "[<selenium.webdriver.remote.webelement.WebElement (session=\"63dc4455d921415f0710bc31d297fb6b\", element=\"17c4a6f0-96de-4376-94e9-461bcd6636b6\")>,\n",
       " <selenium.webdriver.remote.webelement.WebElement (session=\"63dc4455d921415f0710bc31d297fb6b\", element=\"4304453d-92e3-4308-9f77-ae61bd255fbe\")>,\n",
       " <selenium.webdriver.remote.webelement.WebElement (session=\"63dc4455d921415f0710bc31d297fb6b\", element=\"4f76f740-0afd-4f94-9b5d-700d965a12fe\")>,\n",
       " <selenium.webdriver.remote.webelement.WebElement (session=\"63dc4455d921415f0710bc31d297fb6b\", element=\"bfd39de8-183e-4d02-987a-443992eb15dd\")>,\n",
       " <selenium.webdriver.remote.webelement.WebElement (session=\"63dc4455d921415f0710bc31d297fb6b\", element=\"0b203497-6961-4c3d-a3d4-b09d8a065948\")>,\n",
       " <selenium.webdriver.remote.webelement.WebElement (session=\"63dc4455d921415f0710bc31d297fb6b\", element=\"bffbd27e-68ef-45b8-a0ce-c23e989639a2\")>,\n",
       " <selenium.webdriver.remote.webelement.WebElement (session=\"63dc4455d921415f0710bc31d297fb6b\", element=\"ac132fa3-7a73-4827-822a-ef99843be054\")>,\n",
       " <selenium.webdriver.remote.webelement.WebElement (session=\"63dc4455d921415f0710bc31d297fb6b\", element=\"a0f67c41-dbbe-4952-ad56-d617bdf0d457\")>,\n",
       " <selenium.webdriver.remote.webelement.WebElement (session=\"63dc4455d921415f0710bc31d297fb6b\", element=\"00579dfe-ac02-411f-bf82-88f179741ab3\")>,\n",
       " <selenium.webdriver.remote.webelement.WebElement (session=\"63dc4455d921415f0710bc31d297fb6b\", element=\"96398f97-4c6a-468a-b3d9-d804197e5dc7\")>]"
      ]
     },
     "execution_count": 64,
     "metadata": {},
     "output_type": "execute_result"
    }
   ],
   "source": [
    "names_tags=driver.find_elements_by_xpath(\"//div[@class='name']/a\")\n",
    "names_tags[0:10]"
   ]
  },
  {
   "cell_type": "code",
   "execution_count": 65,
   "id": "e981056d",
   "metadata": {},
   "outputs": [
    {
     "data": {
      "text/plain": [
       "['Walmart',\n",
       " 'Ab Inbev',\n",
       " 'American Express',\n",
       " 'ZS',\n",
       " 'Optum',\n",
       " 'Reliance Jio',\n",
       " 'Fractal Analytics',\n",
       " 'Tiger Analytics',\n",
       " 'UnitedHealth',\n",
       " 'EXL Service']"
      ]
     },
     "execution_count": 65,
     "metadata": {},
     "output_type": "execute_result"
    }
   ],
   "source": [
    "for i in names_tags:\n",
    "    employers=i.text\n",
    "    company_name.append(employers)\n",
    "company_name=company_name[0:10]\n",
    "company_name"
   ]
  },
  {
   "cell_type": "code",
   "execution_count": 66,
   "id": "0441bdf5",
   "metadata": {},
   "outputs": [
    {
     "data": {
      "text/plain": [
       "[<selenium.webdriver.remote.webelement.WebElement (session=\"63dc4455d921415f0710bc31d297fb6b\", element=\"b958c457-7d33-45f8-ad4d-990b968b0ee8\")>,\n",
       " <selenium.webdriver.remote.webelement.WebElement (session=\"63dc4455d921415f0710bc31d297fb6b\", element=\"7c112a57-7726-4b9d-a61c-abd1ee26818f\")>,\n",
       " <selenium.webdriver.remote.webelement.WebElement (session=\"63dc4455d921415f0710bc31d297fb6b\", element=\"032732c6-d322-4366-9c8b-553ee594ae12\")>,\n",
       " <selenium.webdriver.remote.webelement.WebElement (session=\"63dc4455d921415f0710bc31d297fb6b\", element=\"b40bbd7f-e02d-41dd-9915-1d540a84b002\")>,\n",
       " <selenium.webdriver.remote.webelement.WebElement (session=\"63dc4455d921415f0710bc31d297fb6b\", element=\"3c8c2f57-9bfb-4df5-a2c7-be1962dba967\")>,\n",
       " <selenium.webdriver.remote.webelement.WebElement (session=\"63dc4455d921415f0710bc31d297fb6b\", element=\"49fc0907-45b2-4c9f-ab12-d06e3a81e390\")>,\n",
       " <selenium.webdriver.remote.webelement.WebElement (session=\"63dc4455d921415f0710bc31d297fb6b\", element=\"8e736bf4-3ab5-472a-abd0-63ad60e1ea87\")>,\n",
       " <selenium.webdriver.remote.webelement.WebElement (session=\"63dc4455d921415f0710bc31d297fb6b\", element=\"bd00bf25-bf48-473f-b0a0-dee210cbb9bb\")>,\n",
       " <selenium.webdriver.remote.webelement.WebElement (session=\"63dc4455d921415f0710bc31d297fb6b\", element=\"7e74b48d-bed3-4c50-bf8c-695296e688e5\")>,\n",
       " <selenium.webdriver.remote.webelement.WebElement (session=\"63dc4455d921415f0710bc31d297fb6b\", element=\"ff89f2d7-28b3-4179-a1a4-71a00c1b9a91\")>]"
      ]
     },
     "execution_count": 66,
     "metadata": {},
     "output_type": "execute_result"
    }
   ],
   "source": [
    "no_of_sal=driver.find_elements_by_xpath(\"//div[@class='name']/span\")\n",
    "no_of_sal[0:10]"
   ]
  },
  {
   "cell_type": "code",
   "execution_count": 67,
   "id": "f2ee2afc",
   "metadata": {},
   "outputs": [
    {
     "data": {
      "text/plain": [
       "['based on 12 salaries',\n",
       " 'based on 33 salaries',\n",
       " 'based on 10 salaries',\n",
       " 'based on 15 salaries',\n",
       " 'based on 33 salaries',\n",
       " 'based on 21 salaries',\n",
       " 'based on 83 salaries',\n",
       " 'based on 50 salaries',\n",
       " 'based on 57 salaries',\n",
       " 'based on 10 salaries']"
      ]
     },
     "execution_count": 67,
     "metadata": {},
     "output_type": "execute_result"
    }
   ],
   "source": [
    "for i in no_of_sal:\n",
    "    num=i.text\n",
    "    total_salary_record.append(num)\n",
    "total_salary_record=total_salary_record[0:10]\n",
    "total_salary_record"
   ]
  },
  {
   "cell_type": "code",
   "execution_count": 68,
   "id": "08ce1cf0",
   "metadata": {},
   "outputs": [
    {
     "data": {
      "text/plain": [
       "[<selenium.webdriver.remote.webelement.WebElement (session=\"63dc4455d921415f0710bc31d297fb6b\", element=\"7efb4c23-e52a-4e74-9d5a-9b59a474f05a\")>,\n",
       " <selenium.webdriver.remote.webelement.WebElement (session=\"63dc4455d921415f0710bc31d297fb6b\", element=\"3c0055b5-4946-46fa-9262-fda8c070fe4d\")>,\n",
       " <selenium.webdriver.remote.webelement.WebElement (session=\"63dc4455d921415f0710bc31d297fb6b\", element=\"bbd23afe-92f5-48b3-98aa-daf28d6fdecb\")>,\n",
       " <selenium.webdriver.remote.webelement.WebElement (session=\"63dc4455d921415f0710bc31d297fb6b\", element=\"a912d746-252b-43d1-a304-17ad3926e543\")>,\n",
       " <selenium.webdriver.remote.webelement.WebElement (session=\"63dc4455d921415f0710bc31d297fb6b\", element=\"49357906-94b2-4b86-9ee8-1d5ea10741e7\")>,\n",
       " <selenium.webdriver.remote.webelement.WebElement (session=\"63dc4455d921415f0710bc31d297fb6b\", element=\"64448c73-b6c4-4c96-946d-1d36189cb7e5\")>,\n",
       " <selenium.webdriver.remote.webelement.WebElement (session=\"63dc4455d921415f0710bc31d297fb6b\", element=\"51192d4f-93ed-4be9-bfbf-a2a6b36c0a16\")>,\n",
       " <selenium.webdriver.remote.webelement.WebElement (session=\"63dc4455d921415f0710bc31d297fb6b\", element=\"d48d2fbf-8e3a-4441-9d7e-d0c48a0d8e61\")>,\n",
       " <selenium.webdriver.remote.webelement.WebElement (session=\"63dc4455d921415f0710bc31d297fb6b\", element=\"37a8e8bb-d370-4809-a4c4-2b54ebad1fcf\")>,\n",
       " <selenium.webdriver.remote.webelement.WebElement (session=\"63dc4455d921415f0710bc31d297fb6b\", element=\"f318e2da-97ca-47cf-8eaf-e07ac0f66202\")>]"
      ]
     },
     "execution_count": 68,
     "metadata": {},
     "output_type": "execute_result"
    }
   ],
   "source": [
    "avg_sal_tags=driver.find_elements_by_xpath(\"//p[@class='averageCtc']\")\n",
    "avg_sal_tags[0:10]"
   ]
  },
  {
   "cell_type": "code",
   "execution_count": 69,
   "id": "fb717eea",
   "metadata": {},
   "outputs": [
    {
     "data": {
      "text/plain": [
       "['₹ 30.2L',\n",
       " '₹ 20.6L',\n",
       " '₹ 19.9L',\n",
       " '₹ 16.7L',\n",
       " '₹ 16.1L',\n",
       " '₹ 15.7L',\n",
       " '₹ 15.4L',\n",
       " '₹ 14.8L',\n",
       " '₹ 14.0L',\n",
       " '₹ 13.3L']"
      ]
     },
     "execution_count": 69,
     "metadata": {},
     "output_type": "execute_result"
    }
   ],
   "source": [
    "for i in avg_sal_tags:\n",
    "    sal_avg=i.text\n",
    "    average_salary.append(sal_avg)\n",
    "average_salary=average_salary[0:10]\n",
    "average_salary"
   ]
  },
  {
   "cell_type": "code",
   "execution_count": 70,
   "id": "49c9fd45",
   "metadata": {},
   "outputs": [
    {
     "data": {
      "text/plain": [
       "[<selenium.webdriver.remote.webelement.WebElement (session=\"63dc4455d921415f0710bc31d297fb6b\", element=\"722329e1-d950-47e6-9dba-2957622c2532\")>,\n",
       " <selenium.webdriver.remote.webelement.WebElement (session=\"63dc4455d921415f0710bc31d297fb6b\", element=\"ff25a6e4-d86b-4f25-88eb-09621bbaae9b\")>,\n",
       " <selenium.webdriver.remote.webelement.WebElement (session=\"63dc4455d921415f0710bc31d297fb6b\", element=\"1c28638d-f2c7-42c7-88ea-181363513e43\")>,\n",
       " <selenium.webdriver.remote.webelement.WebElement (session=\"63dc4455d921415f0710bc31d297fb6b\", element=\"ea2d9ef5-c31d-4561-aab3-ff9b31717e24\")>,\n",
       " <selenium.webdriver.remote.webelement.WebElement (session=\"63dc4455d921415f0710bc31d297fb6b\", element=\"e5deb8de-aeaa-4482-acba-d4619d69d871\")>,\n",
       " <selenium.webdriver.remote.webelement.WebElement (session=\"63dc4455d921415f0710bc31d297fb6b\", element=\"026037a2-e0dd-45ed-b4c4-f27c4b47eb66\")>,\n",
       " <selenium.webdriver.remote.webelement.WebElement (session=\"63dc4455d921415f0710bc31d297fb6b\", element=\"835fc6e8-f115-490f-a579-a1235fb9254e\")>,\n",
       " <selenium.webdriver.remote.webelement.WebElement (session=\"63dc4455d921415f0710bc31d297fb6b\", element=\"5801cef1-8623-4ee9-ada6-5cce926d0f51\")>,\n",
       " <selenium.webdriver.remote.webelement.WebElement (session=\"63dc4455d921415f0710bc31d297fb6b\", element=\"e2466d01-e2d5-4e63-af6e-aeddeed40dfd\")>,\n",
       " <selenium.webdriver.remote.webelement.WebElement (session=\"63dc4455d921415f0710bc31d297fb6b\", element=\"0279c9ac-1b12-489a-8b2c-84594d6dfb1f\")>]"
      ]
     },
     "execution_count": 70,
     "metadata": {},
     "output_type": "execute_result"
    }
   ],
   "source": [
    "min_sal_tags=driver.find_elements_by_xpath(\"//div[@class='value body-medium']\")\n",
    "min_sal_tags[0:10]"
   ]
  },
  {
   "cell_type": "code",
   "execution_count": 71,
   "id": "56a1d3cc",
   "metadata": {},
   "outputs": [
    {
     "data": {
      "text/plain": [
       "['₹ 25.0L',\n",
       " '₹ 15.0L',\n",
       " '₹ 14.1L',\n",
       " '₹ 11.0L',\n",
       " '₹ 11.0L',\n",
       " '₹ 5.6L',\n",
       " '₹ 10.0L',\n",
       " '₹ 9.0L',\n",
       " '₹ 8.3L',\n",
       " '₹ 8.9L']"
      ]
     },
     "execution_count": 71,
     "metadata": {},
     "output_type": "execute_result"
    }
   ],
   "source": [
    "for i in min_sal_tags:\n",
    "    sal_min=i.text\n",
    "    minimum_salary.append(sal_min)\n",
    "minimum_salary=minimum_salary[0:20:2]\n",
    "minimum_salary"
   ]
  },
  {
   "cell_type": "code",
   "execution_count": 72,
   "id": "209fe9ac",
   "metadata": {},
   "outputs": [
    {
     "data": {
      "text/plain": [
       "[<selenium.webdriver.remote.webelement.WebElement (session=\"63dc4455d921415f0710bc31d297fb6b\", element=\"722329e1-d950-47e6-9dba-2957622c2532\")>,\n",
       " <selenium.webdriver.remote.webelement.WebElement (session=\"63dc4455d921415f0710bc31d297fb6b\", element=\"ff25a6e4-d86b-4f25-88eb-09621bbaae9b\")>,\n",
       " <selenium.webdriver.remote.webelement.WebElement (session=\"63dc4455d921415f0710bc31d297fb6b\", element=\"1c28638d-f2c7-42c7-88ea-181363513e43\")>,\n",
       " <selenium.webdriver.remote.webelement.WebElement (session=\"63dc4455d921415f0710bc31d297fb6b\", element=\"ea2d9ef5-c31d-4561-aab3-ff9b31717e24\")>,\n",
       " <selenium.webdriver.remote.webelement.WebElement (session=\"63dc4455d921415f0710bc31d297fb6b\", element=\"e5deb8de-aeaa-4482-acba-d4619d69d871\")>,\n",
       " <selenium.webdriver.remote.webelement.WebElement (session=\"63dc4455d921415f0710bc31d297fb6b\", element=\"026037a2-e0dd-45ed-b4c4-f27c4b47eb66\")>,\n",
       " <selenium.webdriver.remote.webelement.WebElement (session=\"63dc4455d921415f0710bc31d297fb6b\", element=\"835fc6e8-f115-490f-a579-a1235fb9254e\")>,\n",
       " <selenium.webdriver.remote.webelement.WebElement (session=\"63dc4455d921415f0710bc31d297fb6b\", element=\"5801cef1-8623-4ee9-ada6-5cce926d0f51\")>,\n",
       " <selenium.webdriver.remote.webelement.WebElement (session=\"63dc4455d921415f0710bc31d297fb6b\", element=\"e2466d01-e2d5-4e63-af6e-aeddeed40dfd\")>,\n",
       " <selenium.webdriver.remote.webelement.WebElement (session=\"63dc4455d921415f0710bc31d297fb6b\", element=\"0279c9ac-1b12-489a-8b2c-84594d6dfb1f\")>]"
      ]
     },
     "execution_count": 72,
     "metadata": {},
     "output_type": "execute_result"
    }
   ],
   "source": [
    "max_sal_tags=driver.find_elements_by_xpath(\"//div[@class='value body-medium']\")\n",
    "max_sal_tags[0:10]"
   ]
  },
  {
   "cell_type": "code",
   "execution_count": 73,
   "id": "2d872913",
   "metadata": {},
   "outputs": [
    {
     "data": {
      "text/plain": [
       "['₹ 36.0L',\n",
       " '₹ 25.5L',\n",
       " '₹ 25.0L',\n",
       " '₹ 22.0L',\n",
       " '₹ 22.6L',\n",
       " '₹ 26.2L',\n",
       " '₹ 22.0L',\n",
       " '₹ 20.0L',\n",
       " '₹ 21.1L',\n",
       " '₹ 21.0L']"
      ]
     },
     "execution_count": 73,
     "metadata": {},
     "output_type": "execute_result"
    }
   ],
   "source": [
    "for i in max_sal_tags:\n",
    "    sal_max=i.text\n",
    "    maximum_salary.append(sal_max)\n",
    "maximum_salary=maximum_salary[1:21:2]\n",
    "maximum_salary"
   ]
  },
  {
   "cell_type": "code",
   "execution_count": 74,
   "id": "012246f2",
   "metadata": {},
   "outputs": [
    {
     "data": {
      "text/plain": [
       "[<selenium.webdriver.remote.webelement.WebElement (session=\"63dc4455d921415f0710bc31d297fb6b\", element=\"397f3c14-e5f1-4864-becb-2693980f9174\")>,\n",
       " <selenium.webdriver.remote.webelement.WebElement (session=\"63dc4455d921415f0710bc31d297fb6b\", element=\"b916eab5-f8e4-419e-978e-1e65d7948f1d\")>,\n",
       " <selenium.webdriver.remote.webelement.WebElement (session=\"63dc4455d921415f0710bc31d297fb6b\", element=\"f56dbf16-66fc-4c13-8e87-9bdac717598f\")>,\n",
       " <selenium.webdriver.remote.webelement.WebElement (session=\"63dc4455d921415f0710bc31d297fb6b\", element=\"ee377a5d-7638-44b4-ad54-d3eda449add7\")>,\n",
       " <selenium.webdriver.remote.webelement.WebElement (session=\"63dc4455d921415f0710bc31d297fb6b\", element=\"7c843239-25fa-42b0-a724-8dc3d7c9ebbc\")>,\n",
       " <selenium.webdriver.remote.webelement.WebElement (session=\"63dc4455d921415f0710bc31d297fb6b\", element=\"428aa38d-9f92-4c56-ad17-d130e7ac1ef5\")>,\n",
       " <selenium.webdriver.remote.webelement.WebElement (session=\"63dc4455d921415f0710bc31d297fb6b\", element=\"e4adb430-672d-4eb8-9f85-1067f12b1b79\")>,\n",
       " <selenium.webdriver.remote.webelement.WebElement (session=\"63dc4455d921415f0710bc31d297fb6b\", element=\"777c2982-f1e8-401d-bb0d-320f784ba9fa\")>,\n",
       " <selenium.webdriver.remote.webelement.WebElement (session=\"63dc4455d921415f0710bc31d297fb6b\", element=\"e0694e8e-85df-4d66-b5d9-1eff1538217f\")>,\n",
       " <selenium.webdriver.remote.webelement.WebElement (session=\"63dc4455d921415f0710bc31d297fb6b\", element=\"588477f6-bf9c-416d-81c6-c820c0ccef30\")>]"
      ]
     },
     "execution_count": 74,
     "metadata": {},
     "output_type": "execute_result"
    }
   ],
   "source": [
    "exp_tags=driver.find_elements_by_xpath(\"//div[@class='salaries sbold-list-header']\")\n",
    "exp_tags[0:10]"
   ]
  },
  {
   "cell_type": "code",
   "execution_count": 77,
   "id": "78017cb2",
   "metadata": {},
   "outputs": [
    {
     "data": {
      "text/plain": [
       "['3 yrs exp',\n",
       " '3-4 yrs exp',\n",
       " '4 yrs exp',\n",
       " '2 yrs exp',\n",
       " '3-4 yrs exp',\n",
       " '3-4 yrs exp',\n",
       " '2-4 yrs exp',\n",
       " '2-4 yrs exp',\n",
       " '2-4 yrs exp',\n",
       " '4 yrs exp']"
      ]
     },
     "execution_count": 77,
     "metadata": {},
     "output_type": "execute_result"
    }
   ],
   "source": [
    "for i in exp_tags:\n",
    "    exp_req=i.text.split('\\n')[2]\n",
    "    experience_required.append(exp_req)\n",
    "experience_required"
   ]
  },
  {
   "cell_type": "code",
   "execution_count": 78,
   "id": "1b5ea73e",
   "metadata": {},
   "outputs": [
    {
     "name": "stdout",
     "output_type": "stream",
     "text": [
      "10 10 10 10 10 10\n"
     ]
    }
   ],
   "source": [
    "print(len(company_name),len(total_salary_record),len(average_salary),len(minimum_salary),len(maximum_salary),len(experience_required))"
   ]
  },
  {
   "cell_type": "code",
   "execution_count": 79,
   "id": "bdb67685",
   "metadata": {},
   "outputs": [
    {
     "data": {
      "text/html": [
       "<div>\n",
       "<style scoped>\n",
       "    .dataframe tbody tr th:only-of-type {\n",
       "        vertical-align: middle;\n",
       "    }\n",
       "\n",
       "    .dataframe tbody tr th {\n",
       "        vertical-align: top;\n",
       "    }\n",
       "\n",
       "    .dataframe thead th {\n",
       "        text-align: right;\n",
       "    }\n",
       "</style>\n",
       "<table border=\"1\" class=\"dataframe\">\n",
       "  <thead>\n",
       "    <tr style=\"text-align: right;\">\n",
       "      <th></th>\n",
       "      <th>Company Name</th>\n",
       "      <th>Total Salary Record</th>\n",
       "      <th>Average Salary</th>\n",
       "      <th>Minimum Salary</th>\n",
       "      <th>Maximum Salary</th>\n",
       "      <th>Experience Required</th>\n",
       "    </tr>\n",
       "  </thead>\n",
       "  <tbody>\n",
       "    <tr>\n",
       "      <th>0</th>\n",
       "      <td>Walmart</td>\n",
       "      <td>based on 12 salaries</td>\n",
       "      <td>₹ 30.2L</td>\n",
       "      <td>₹ 25.0L</td>\n",
       "      <td>₹ 36.0L</td>\n",
       "      <td>3 yrs exp</td>\n",
       "    </tr>\n",
       "    <tr>\n",
       "      <th>1</th>\n",
       "      <td>Ab Inbev</td>\n",
       "      <td>based on 33 salaries</td>\n",
       "      <td>₹ 20.6L</td>\n",
       "      <td>₹ 15.0L</td>\n",
       "      <td>₹ 25.5L</td>\n",
       "      <td>3-4 yrs exp</td>\n",
       "    </tr>\n",
       "    <tr>\n",
       "      <th>2</th>\n",
       "      <td>American Express</td>\n",
       "      <td>based on 10 salaries</td>\n",
       "      <td>₹ 19.9L</td>\n",
       "      <td>₹ 14.1L</td>\n",
       "      <td>₹ 25.0L</td>\n",
       "      <td>4 yrs exp</td>\n",
       "    </tr>\n",
       "    <tr>\n",
       "      <th>3</th>\n",
       "      <td>ZS</td>\n",
       "      <td>based on 15 salaries</td>\n",
       "      <td>₹ 16.7L</td>\n",
       "      <td>₹ 11.0L</td>\n",
       "      <td>₹ 22.0L</td>\n",
       "      <td>2 yrs exp</td>\n",
       "    </tr>\n",
       "    <tr>\n",
       "      <th>4</th>\n",
       "      <td>Optum</td>\n",
       "      <td>based on 33 salaries</td>\n",
       "      <td>₹ 16.1L</td>\n",
       "      <td>₹ 11.0L</td>\n",
       "      <td>₹ 22.6L</td>\n",
       "      <td>3-4 yrs exp</td>\n",
       "    </tr>\n",
       "    <tr>\n",
       "      <th>5</th>\n",
       "      <td>Reliance Jio</td>\n",
       "      <td>based on 21 salaries</td>\n",
       "      <td>₹ 15.7L</td>\n",
       "      <td>₹ 5.6L</td>\n",
       "      <td>₹ 26.2L</td>\n",
       "      <td>3-4 yrs exp</td>\n",
       "    </tr>\n",
       "    <tr>\n",
       "      <th>6</th>\n",
       "      <td>Fractal Analytics</td>\n",
       "      <td>based on 83 salaries</td>\n",
       "      <td>₹ 15.4L</td>\n",
       "      <td>₹ 10.0L</td>\n",
       "      <td>₹ 22.0L</td>\n",
       "      <td>2-4 yrs exp</td>\n",
       "    </tr>\n",
       "    <tr>\n",
       "      <th>7</th>\n",
       "      <td>Tiger Analytics</td>\n",
       "      <td>based on 50 salaries</td>\n",
       "      <td>₹ 14.8L</td>\n",
       "      <td>₹ 9.0L</td>\n",
       "      <td>₹ 20.0L</td>\n",
       "      <td>2-4 yrs exp</td>\n",
       "    </tr>\n",
       "    <tr>\n",
       "      <th>8</th>\n",
       "      <td>UnitedHealth</td>\n",
       "      <td>based on 57 salaries</td>\n",
       "      <td>₹ 14.0L</td>\n",
       "      <td>₹ 8.3L</td>\n",
       "      <td>₹ 21.1L</td>\n",
       "      <td>2-4 yrs exp</td>\n",
       "    </tr>\n",
       "    <tr>\n",
       "      <th>9</th>\n",
       "      <td>EXL Service</td>\n",
       "      <td>based on 10 salaries</td>\n",
       "      <td>₹ 13.3L</td>\n",
       "      <td>₹ 8.9L</td>\n",
       "      <td>₹ 21.0L</td>\n",
       "      <td>4 yrs exp</td>\n",
       "    </tr>\n",
       "  </tbody>\n",
       "</table>\n",
       "</div>"
      ],
      "text/plain": [
       "        Company Name   Total Salary Record Average Salary Minimum Salary  \\\n",
       "0            Walmart  based on 12 salaries        ₹ 30.2L        ₹ 25.0L   \n",
       "1           Ab Inbev  based on 33 salaries        ₹ 20.6L        ₹ 15.0L   \n",
       "2   American Express  based on 10 salaries        ₹ 19.9L        ₹ 14.1L   \n",
       "3                 ZS  based on 15 salaries        ₹ 16.7L        ₹ 11.0L   \n",
       "4              Optum  based on 33 salaries        ₹ 16.1L        ₹ 11.0L   \n",
       "5       Reliance Jio  based on 21 salaries        ₹ 15.7L         ₹ 5.6L   \n",
       "6  Fractal Analytics  based on 83 salaries        ₹ 15.4L        ₹ 10.0L   \n",
       "7    Tiger Analytics  based on 50 salaries        ₹ 14.8L         ₹ 9.0L   \n",
       "8       UnitedHealth  based on 57 salaries        ₹ 14.0L         ₹ 8.3L   \n",
       "9        EXL Service  based on 10 salaries        ₹ 13.3L         ₹ 8.9L   \n",
       "\n",
       "  Maximum Salary Experience Required  \n",
       "0        ₹ 36.0L           3 yrs exp  \n",
       "1        ₹ 25.5L         3-4 yrs exp  \n",
       "2        ₹ 25.0L           4 yrs exp  \n",
       "3        ₹ 22.0L           2 yrs exp  \n",
       "4        ₹ 22.6L         3-4 yrs exp  \n",
       "5        ₹ 26.2L         3-4 yrs exp  \n",
       "6        ₹ 22.0L         2-4 yrs exp  \n",
       "7        ₹ 20.0L         2-4 yrs exp  \n",
       "8        ₹ 21.1L         2-4 yrs exp  \n",
       "9        ₹ 21.0L           4 yrs exp  "
      ]
     },
     "execution_count": 79,
     "metadata": {},
     "output_type": "execute_result"
    }
   ],
   "source": [
    "#Creating DataFrame\n",
    "\n",
    "\n",
    "ds_ambitionbox = pd.DataFrame({'Company Name': company_name,'Total Salary Record':total_salary_record, 'Average Salary': average_salary, 'Minimum Salary': minimum_salary, 'Maximum Salary': maximum_salary, 'Experience Required': experience_required})\n",
    "ds_ambitionbox"
   ]
  },
  {
   "cell_type": "code",
   "execution_count": null,
   "id": "08db1c87",
   "metadata": {},
   "outputs": [],
   "source": []
  }
 ],
 "metadata": {
  "kernelspec": {
   "display_name": "Python 3 (ipykernel)",
   "language": "python",
   "name": "python3"
  },
  "language_info": {
   "codemirror_mode": {
    "name": "ipython",
    "version": 3
   },
   "file_extension": ".py",
   "mimetype": "text/x-python",
   "name": "python",
   "nbconvert_exporter": "python",
   "pygments_lexer": "ipython3",
   "version": "3.9.7"
  }
 },
 "nbformat": 4,
 "nbformat_minor": 5
}
